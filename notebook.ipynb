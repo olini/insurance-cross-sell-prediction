{
 "cells": [
  {
   "cell_type": "markdown",
   "id": "ordinary-antigua",
   "metadata": {},
   "source": [
    "# 0. Imports"
   ]
  },
  {
   "cell_type": "code",
   "execution_count": 1,
   "id": "pointed-benefit",
   "metadata": {
    "execution": {
     "iopub.execute_input": "2021-01-18T11:16:53.432884Z",
     "iopub.status.busy": "2021-01-18T11:16:53.432574Z",
     "iopub.status.idle": "2021-01-18T11:16:53.758167Z",
     "shell.execute_reply": "2021-01-18T11:16:53.757362Z",
     "shell.execute_reply.started": "2021-01-18T11:16:53.432848Z"
    }
   },
   "outputs": [],
   "source": [
    "import pandas as pd\n",
    "import psycopg2 as pg\n",
    "\n",
    "import credentials"
   ]
  },
  {
   "cell_type": "markdown",
   "id": "dying-julian",
   "metadata": {},
   "source": [
    "# 1. Load Data"
   ]
  },
  {
   "cell_type": "code",
   "execution_count": 4,
   "id": "russian-combine",
   "metadata": {
    "execution": {
     "iopub.execute_input": "2021-01-18T11:17:07.980906Z",
     "iopub.status.busy": "2021-01-18T11:17:07.980380Z",
     "iopub.status.idle": "2021-01-18T11:17:22.647461Z",
     "shell.execute_reply": "2021-01-18T11:17:22.646820Z",
     "shell.execute_reply.started": "2021-01-18T11:17:07.980848Z"
    }
   },
   "outputs": [],
   "source": [
    "sql_query = \"\"\"\n",
    "select \n",
    "  u.id,\n",
    "  u.gender,\n",
    "  u.age,\n",
    "  u.region_code,\n",
    "  u.policy_sales_channel,\n",
    "  i.previously_insured,\n",
    "  i.annual_premium,\n",
    "  i.vintage,\n",
    "  v.driving_license,\n",
    "  v.vehicle_age,\n",
    "  v.vehicle_damage,\n",
    "  i.response\n",
    "from pa004.users u \n",
    "inner join pa004.insurance i on u.id = i.id \n",
    "inner join pa004.vehicle v on u.id = v.id\n",
    "where u.id between 1 and 381109 -- limit id to guarantee the same data is fetched\n",
    "\"\"\"\n",
    "\n",
    "conn = pg.connect(\n",
    "    user=credentials.USER,\n",
    "    password=credentials.PWD,\n",
    "    host=credentials.HOST,\n",
    "    port=credentials.PORT,\n",
    "    database=credentials.DB\n",
    ")\n",
    "\n",
    "df_raw = pd.read_sql(sql_query, conn)"
   ]
  },
  {
   "cell_type": "markdown",
   "id": "covered-watershed",
   "metadata": {},
   "source": [
    "# 2. Data Description"
   ]
  },
  {
   "cell_type": "code",
   "execution_count": 27,
   "id": "agricultural-throw",
   "metadata": {
    "execution": {
     "iopub.execute_input": "2021-01-18T11:51:15.622431Z",
     "iopub.status.busy": "2021-01-18T11:51:15.622058Z",
     "iopub.status.idle": "2021-01-18T11:51:15.660994Z",
     "shell.execute_reply": "2021-01-18T11:51:15.659210Z",
     "shell.execute_reply.started": "2021-01-18T11:51:15.622396Z"
    }
   },
   "outputs": [],
   "source": [
    "df_dd = df_raw.copy()"
   ]
  },
  {
   "cell_type": "markdown",
   "id": "suspected-repository",
   "metadata": {},
   "source": [
    "## 2.1. Data Dimension"
   ]
  },
  {
   "cell_type": "code",
   "execution_count": 28,
   "id": "adequate-growing",
   "metadata": {
    "execution": {
     "iopub.execute_input": "2021-01-18T11:51:15.957105Z",
     "iopub.status.busy": "2021-01-18T11:51:15.956125Z",
     "iopub.status.idle": "2021-01-18T11:51:15.965027Z",
     "shell.execute_reply": "2021-01-18T11:51:15.963917Z",
     "shell.execute_reply.started": "2021-01-18T11:51:15.956948Z"
    }
   },
   "outputs": [
    {
     "name": "stdout",
     "output_type": "stream",
     "text": [
      "Number of rows: 381109\n",
      "Number of columns: 12\n"
     ]
    }
   ],
   "source": [
    "print(f'Number of rows: {df_dd.shape[0]}')\n",
    "print(f'Number of columns: {df_dd.shape[1]}')"
   ]
  },
  {
   "cell_type": "markdown",
   "id": "mysterious-faith",
   "metadata": {
    "execution": {
     "iopub.execute_input": "2021-01-18T11:42:56.970172Z",
     "iopub.status.busy": "2021-01-18T11:42:56.969739Z",
     "iopub.status.idle": "2021-01-18T11:42:56.980395Z",
     "shell.execute_reply": "2021-01-18T11:42:56.979036Z",
     "shell.execute_reply.started": "2021-01-18T11:42:56.970129Z"
    }
   },
   "source": [
    "## 2.2. Data Types"
   ]
  },
  {
   "cell_type": "code",
   "execution_count": 29,
   "id": "identical-selection",
   "metadata": {
    "execution": {
     "iopub.execute_input": "2021-01-18T11:51:16.326415Z",
     "iopub.status.busy": "2021-01-18T11:51:16.325153Z",
     "iopub.status.idle": "2021-01-18T11:51:16.382683Z",
     "shell.execute_reply": "2021-01-18T11:51:16.381473Z",
     "shell.execute_reply.started": "2021-01-18T11:51:16.326284Z"
    }
   },
   "outputs": [
    {
     "data": {
      "text/html": [
       "<div>\n",
       "<style scoped>\n",
       "    .dataframe tbody tr th:only-of-type {\n",
       "        vertical-align: middle;\n",
       "    }\n",
       "\n",
       "    .dataframe tbody tr th {\n",
       "        vertical-align: top;\n",
       "    }\n",
       "\n",
       "    .dataframe thead th {\n",
       "        text-align: right;\n",
       "    }\n",
       "</style>\n",
       "<table border=\"1\" class=\"dataframe\">\n",
       "  <thead>\n",
       "    <tr style=\"text-align: right;\">\n",
       "      <th></th>\n",
       "      <th>id</th>\n",
       "      <th>gender</th>\n",
       "      <th>age</th>\n",
       "      <th>region_code</th>\n",
       "      <th>policy_sales_channel</th>\n",
       "      <th>previously_insured</th>\n",
       "      <th>annual_premium</th>\n",
       "      <th>vintage</th>\n",
       "      <th>driving_license</th>\n",
       "      <th>vehicle_age</th>\n",
       "      <th>vehicle_damage</th>\n",
       "      <th>response</th>\n",
       "    </tr>\n",
       "  </thead>\n",
       "  <tbody>\n",
       "    <tr>\n",
       "      <th>150180</th>\n",
       "      <td>57405</td>\n",
       "      <td>Female</td>\n",
       "      <td>22</td>\n",
       "      <td>17.0</td>\n",
       "      <td>152.0</td>\n",
       "      <td>1</td>\n",
       "      <td>64339.0</td>\n",
       "      <td>214</td>\n",
       "      <td>1</td>\n",
       "      <td>&lt; 1 Year</td>\n",
       "      <td>No</td>\n",
       "      <td>0</td>\n",
       "    </tr>\n",
       "  </tbody>\n",
       "</table>\n",
       "</div>"
      ],
      "text/plain": [
       "           id  gender  age  region_code  policy_sales_channel  \\\n",
       "150180  57405  Female   22         17.0                 152.0   \n",
       "\n",
       "        previously_insured  annual_premium  vintage  driving_license  \\\n",
       "150180                   1         64339.0      214                1   \n",
       "\n",
       "       vehicle_age vehicle_damage  response  \n",
       "150180    < 1 Year             No         0  "
      ]
     },
     "execution_count": 29,
     "metadata": {},
     "output_type": "execute_result"
    }
   ],
   "source": [
    "df_dd.sample()"
   ]
  },
  {
   "cell_type": "code",
   "execution_count": 30,
   "id": "fixed-miniature",
   "metadata": {
    "execution": {
     "iopub.execute_input": "2021-01-18T11:51:17.183494Z",
     "iopub.status.busy": "2021-01-18T11:51:17.178917Z",
     "iopub.status.idle": "2021-01-18T11:51:17.215106Z",
     "shell.execute_reply": "2021-01-18T11:51:17.212025Z",
     "shell.execute_reply.started": "2021-01-18T11:51:17.182147Z"
    }
   },
   "outputs": [
    {
     "data": {
      "text/plain": [
       "id                        int64\n",
       "gender                   object\n",
       "age                       int64\n",
       "region_code             float64\n",
       "policy_sales_channel    float64\n",
       "previously_insured        int64\n",
       "annual_premium          float64\n",
       "vintage                   int64\n",
       "driving_license           int64\n",
       "vehicle_age              object\n",
       "vehicle_damage           object\n",
       "response                  int64\n",
       "dtype: object"
      ]
     },
     "execution_count": 30,
     "metadata": {},
     "output_type": "execute_result"
    }
   ],
   "source": [
    "df_dd.dtypes"
   ]
  },
  {
   "cell_type": "code",
   "execution_count": 34,
   "id": "lesbian-department",
   "metadata": {
    "execution": {
     "iopub.execute_input": "2021-01-18T11:55:06.972848Z",
     "iopub.status.busy": "2021-01-18T11:55:06.971846Z",
     "iopub.status.idle": "2021-01-18T11:55:07.105026Z",
     "shell.execute_reply": "2021-01-18T11:55:07.104085Z",
     "shell.execute_reply.started": "2021-01-18T11:55:06.972733Z"
    }
   },
   "outputs": [
    {
     "data": {
      "text/plain": [
       "id                        int64\n",
       "gender                    int64\n",
       "age                       int64\n",
       "region_code             float64\n",
       "policy_sales_channel    float64\n",
       "previously_insured        int64\n",
       "annual_premium          float64\n",
       "vintage                   int64\n",
       "driving_license           int64\n",
       "vehicle_age              object\n",
       "vehicle_damage          float64\n",
       "response                  int64\n",
       "dtype: object"
      ]
     },
     "execution_count": 34,
     "metadata": {},
     "output_type": "execute_result"
    }
   ],
   "source": [
    "# change the feature vehicle_damage to int - Yes = 1 and No = 0\n",
    "mapping_dict = {'Yes': 1, 'No': 0}\n",
    "df_dd['vehicle_damage'] = df_dd['vehicle_damage'].map(mapping_dict)\n",
    "\n",
    "# change the feature gender to int - Female = 1 and Male = 0\n",
    "mapping_dict = {'Female': 1, 'Male': 0}\n",
    "df_dd['gender'] = df_dd['gender'].map(mapping_dict)\n",
    "\n",
    "df_dd.dtypes"
   ]
  },
  {
   "cell_type": "markdown",
   "id": "fifty-entrance",
   "metadata": {},
   "source": [
    "## 2.3. Check NAs"
   ]
  },
  {
   "cell_type": "code",
   "execution_count": 32,
   "id": "broke-neutral",
   "metadata": {
    "execution": {
     "iopub.execute_input": "2021-01-18T11:52:41.601380Z",
     "iopub.status.busy": "2021-01-18T11:52:41.600452Z",
     "iopub.status.idle": "2021-01-18T11:52:41.707661Z",
     "shell.execute_reply": "2021-01-18T11:52:41.705958Z",
     "shell.execute_reply.started": "2021-01-18T11:52:41.601274Z"
    }
   },
   "outputs": [
    {
     "data": {
      "text/plain": [
       "id                      0\n",
       "gender                  0\n",
       "age                     0\n",
       "region_code             0\n",
       "policy_sales_channel    0\n",
       "previously_insured      0\n",
       "annual_premium          0\n",
       "vintage                 0\n",
       "driving_license         0\n",
       "vehicle_age             0\n",
       "vehicle_damage          0\n",
       "response                0\n",
       "dtype: int64"
      ]
     },
     "execution_count": 32,
     "metadata": {},
     "output_type": "execute_result"
    }
   ],
   "source": [
    "df_dd.isna().sum()"
   ]
  },
  {
   "cell_type": "markdown",
   "id": "subjective-billy",
   "metadata": {},
   "source": [
    "No NAs found, no further action needed."
   ]
  },
  {
   "cell_type": "markdown",
   "id": "stuffed-lease",
   "metadata": {},
   "source": [
    "## 2.4. Descriptive Statistics"
   ]
  },
  {
   "cell_type": "code",
   "execution_count": 35,
   "id": "daily-bahrain",
   "metadata": {
    "execution": {
     "iopub.execute_input": "2021-01-18T12:01:16.028476Z",
     "iopub.status.busy": "2021-01-18T12:01:16.027891Z",
     "iopub.status.idle": "2021-01-18T12:01:16.037058Z",
     "shell.execute_reply": "2021-01-18T12:01:16.035313Z",
     "shell.execute_reply.started": "2021-01-18T12:01:16.028414Z"
    }
   },
   "outputs": [],
   "source": [
    "# lets separate the features in numerical and categorical\n",
    "num_features = ['age', 'region_code', 'policy_sales_channel', 'annual_premium', 'vintage', 'response']\n",
    "cat_features = ['gender', 'region_code', 'policy_sales_channel', 'previously_insured', 'driving_license', 'vehicle_age', 'vehicle_damage']"
   ]
  },
  {
   "cell_type": "code",
   "execution_count": null,
   "id": "painted-beginning",
   "metadata": {},
   "outputs": [],
   "source": []
  }
 ],
 "metadata": {
  "kernelspec": {
   "display_name": "Python 3",
   "language": "python",
   "name": "python3"
  },
  "language_info": {
   "codemirror_mode": {
    "name": "ipython",
    "version": 3
   },
   "file_extension": ".py",
   "mimetype": "text/x-python",
   "name": "python",
   "nbconvert_exporter": "python",
   "pygments_lexer": "ipython3",
   "version": "3.8.5"
  }
 },
 "nbformat": 4,
 "nbformat_minor": 5
}
