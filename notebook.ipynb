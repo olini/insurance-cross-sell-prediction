{
 "cells": [
  {
   "cell_type": "markdown",
   "id": "graduate-reminder",
   "metadata": {},
   "source": [
    "# 0. Imports"
   ]
  },
  {
   "cell_type": "code",
   "execution_count": 93,
   "id": "nuclear-dominican",
   "metadata": {
    "execution": {
     "iopub.execute_input": "2021-02-05T11:41:25.366238Z",
     "iopub.status.busy": "2021-02-05T11:41:25.365932Z",
     "iopub.status.idle": "2021-02-05T11:41:25.370488Z",
     "shell.execute_reply": "2021-02-05T11:41:25.369709Z",
     "shell.execute_reply.started": "2021-02-05T11:41:25.366209Z"
    }
   },
   "outputs": [],
   "source": [
    "import pandas as pd\n",
    "import psycopg2 as pg\n",
    "import numpy as np\n",
    "from matplotlib import pyplot as plt\n",
    "import seaborn as sns\n",
    "\n",
    "import credentials"
   ]
  },
  {
   "cell_type": "markdown",
   "id": "sound-packaging",
   "metadata": {},
   "source": [
    "## 0.1. Helper Function"
   ]
  },
  {
   "cell_type": "code",
   "execution_count": 94,
   "id": "cutting-treaty",
   "metadata": {
    "execution": {
     "iopub.execute_input": "2021-02-05T11:41:25.372050Z",
     "iopub.status.busy": "2021-02-05T11:41:25.371774Z",
     "iopub.status.idle": "2021-02-05T11:41:25.378964Z",
     "shell.execute_reply": "2021-02-05T11:41:25.378197Z",
     "shell.execute_reply.started": "2021-02-05T11:41:25.372024Z"
    }
   },
   "outputs": [],
   "source": [
    "def jupyter_settings():\n",
    "    %matplotlib inline\n",
    "    %pylab inline\n",
    "    pd.options.display.max_columns = None\n",
    "    pd.options.display.max_rows = None\n",
    "    \n",
    "    plt.rcParams['figure.figsize'] = [25,8]\n",
    "    plt.rcParams['font.size'] = 24\n",
    "    sns.set()\n",
    "    sns.set_theme()\n",
    "    sns.set_color_codes()"
   ]
  },
  {
   "cell_type": "code",
   "execution_count": 95,
   "id": "touched-membrane",
   "metadata": {
    "execution": {
     "iopub.execute_input": "2021-02-05T11:41:25.391287Z",
     "iopub.status.busy": "2021-02-05T11:41:25.391048Z",
     "iopub.status.idle": "2021-02-05T11:41:25.400152Z",
     "shell.execute_reply": "2021-02-05T11:41:25.399047Z",
     "shell.execute_reply.started": "2021-02-05T11:41:25.391243Z"
    }
   },
   "outputs": [
    {
     "name": "stdout",
     "output_type": "stream",
     "text": [
      "Populating the interactive namespace from numpy and matplotlib\n"
     ]
    }
   ],
   "source": [
    "jupyter_settings()"
   ]
  },
  {
   "cell_type": "markdown",
   "id": "recorded-large",
   "metadata": {},
   "source": [
    "# 1. Load Data"
   ]
  },
  {
   "cell_type": "code",
   "execution_count": 96,
   "id": "greek-analyst",
   "metadata": {
    "execution": {
     "iopub.execute_input": "2021-02-05T11:41:25.402226Z",
     "iopub.status.busy": "2021-02-05T11:41:25.401861Z",
     "iopub.status.idle": "2021-02-05T11:41:48.352384Z",
     "shell.execute_reply": "2021-02-05T11:41:48.351378Z",
     "shell.execute_reply.started": "2021-02-05T11:41:25.402185Z"
    }
   },
   "outputs": [],
   "source": [
    "sql_query = \"\"\"\n",
    "select \n",
    "  u.id,\n",
    "  u.gender,\n",
    "  u.age,\n",
    "  u.region_code,\n",
    "  u.policy_sales_channel,\n",
    "  i.previously_insured,\n",
    "  i.annual_premium,\n",
    "  i.vintage,\n",
    "  v.driving_license,\n",
    "  v.vehicle_age,\n",
    "  v.vehicle_damage,\n",
    "  i.response\n",
    "from pa004.users u \n",
    "inner join pa004.insurance i on u.id = i.id \n",
    "inner join pa004.vehicle v on u.id = v.id\n",
    "where u.id between 1 and 381109 -- limit id to guarantee the same data is fetched\n",
    "\"\"\"\n",
    "\n",
    "conn = pg.connect(\n",
    "    user=credentials.USER,\n",
    "    password=credentials.PWD,\n",
    "    host=credentials.HOST,\n",
    "    port=credentials.PORT,\n",
    "    database=credentials.DB\n",
    ")\n",
    "\n",
    "df_raw = pd.read_sql(sql_query, conn)"
   ]
  },
  {
   "cell_type": "markdown",
   "id": "through-sheffield",
   "metadata": {},
   "source": [
    "# 2. Data Description"
   ]
  },
  {
   "cell_type": "code",
   "execution_count": 97,
   "id": "visible-folks",
   "metadata": {
    "execution": {
     "iopub.execute_input": "2021-02-05T11:41:48.354687Z",
     "iopub.status.busy": "2021-02-05T11:41:48.354370Z",
     "iopub.status.idle": "2021-02-05T11:41:48.416720Z",
     "shell.execute_reply": "2021-02-05T11:41:48.415032Z",
     "shell.execute_reply.started": "2021-02-05T11:41:48.354652Z"
    }
   },
   "outputs": [],
   "source": [
    "df_dd = df_raw.copy()"
   ]
  },
  {
   "cell_type": "markdown",
   "id": "objective-buying",
   "metadata": {},
   "source": [
    "## 2.1. Data Dimension"
   ]
  },
  {
   "cell_type": "code",
   "execution_count": 98,
   "id": "outdoor-orientation",
   "metadata": {
    "execution": {
     "iopub.execute_input": "2021-02-05T11:41:48.420970Z",
     "iopub.status.busy": "2021-02-05T11:41:48.420380Z",
     "iopub.status.idle": "2021-02-05T11:41:48.428771Z",
     "shell.execute_reply": "2021-02-05T11:41:48.427108Z",
     "shell.execute_reply.started": "2021-02-05T11:41:48.420900Z"
    }
   },
   "outputs": [
    {
     "name": "stdout",
     "output_type": "stream",
     "text": [
      "Number of rows: 381109\n",
      "Number of columns: 12\n"
     ]
    }
   ],
   "source": [
    "print(f'Number of rows: {df_dd.shape[0]}')\n",
    "print(f'Number of columns: {df_dd.shape[1]}')"
   ]
  },
  {
   "cell_type": "markdown",
   "id": "graduate-blind",
   "metadata": {
    "execution": {
     "iopub.execute_input": "2021-01-18T11:42:56.970172Z",
     "iopub.status.busy": "2021-01-18T11:42:56.969739Z",
     "iopub.status.idle": "2021-01-18T11:42:56.980395Z",
     "shell.execute_reply": "2021-01-18T11:42:56.979036Z",
     "shell.execute_reply.started": "2021-01-18T11:42:56.970129Z"
    }
   },
   "source": [
    "## 2.2. Data Types"
   ]
  },
  {
   "cell_type": "code",
   "execution_count": 99,
   "id": "applied-soldier",
   "metadata": {
    "execution": {
     "iopub.execute_input": "2021-02-05T11:41:48.431579Z",
     "iopub.status.busy": "2021-02-05T11:41:48.431045Z",
     "iopub.status.idle": "2021-02-05T11:41:48.497325Z",
     "shell.execute_reply": "2021-02-05T11:41:48.494582Z",
     "shell.execute_reply.started": "2021-02-05T11:41:48.431517Z"
    }
   },
   "outputs": [
    {
     "data": {
      "text/html": [
       "<div>\n",
       "<style scoped>\n",
       "    .dataframe tbody tr th:only-of-type {\n",
       "        vertical-align: middle;\n",
       "    }\n",
       "\n",
       "    .dataframe tbody tr th {\n",
       "        vertical-align: top;\n",
       "    }\n",
       "\n",
       "    .dataframe thead th {\n",
       "        text-align: right;\n",
       "    }\n",
       "</style>\n",
       "<table border=\"1\" class=\"dataframe\">\n",
       "  <thead>\n",
       "    <tr style=\"text-align: right;\">\n",
       "      <th></th>\n",
       "      <th>id</th>\n",
       "      <th>gender</th>\n",
       "      <th>age</th>\n",
       "      <th>region_code</th>\n",
       "      <th>policy_sales_channel</th>\n",
       "      <th>previously_insured</th>\n",
       "      <th>annual_premium</th>\n",
       "      <th>vintage</th>\n",
       "      <th>driving_license</th>\n",
       "      <th>vehicle_age</th>\n",
       "      <th>vehicle_damage</th>\n",
       "      <th>response</th>\n",
       "    </tr>\n",
       "  </thead>\n",
       "  <tbody>\n",
       "    <tr>\n",
       "      <th>227525</th>\n",
       "      <td>292670</td>\n",
       "      <td>Male</td>\n",
       "      <td>34</td>\n",
       "      <td>14.0</td>\n",
       "      <td>26.0</td>\n",
       "      <td>0</td>\n",
       "      <td>18653.0</td>\n",
       "      <td>151</td>\n",
       "      <td>1</td>\n",
       "      <td>1-2 Year</td>\n",
       "      <td>Yes</td>\n",
       "      <td>1</td>\n",
       "    </tr>\n",
       "  </tbody>\n",
       "</table>\n",
       "</div>"
      ],
      "text/plain": [
       "            id gender  age  region_code  policy_sales_channel  \\\n",
       "227525  292670   Male   34         14.0                  26.0   \n",
       "\n",
       "        previously_insured  annual_premium  vintage  driving_license  \\\n",
       "227525                   0         18653.0      151                1   \n",
       "\n",
       "       vehicle_age vehicle_damage  response  \n",
       "227525    1-2 Year            Yes         1  "
      ]
     },
     "execution_count": 99,
     "metadata": {},
     "output_type": "execute_result"
    }
   ],
   "source": [
    "df_dd.sample()"
   ]
  },
  {
   "cell_type": "code",
   "execution_count": 100,
   "id": "charged-novelty",
   "metadata": {
    "execution": {
     "iopub.execute_input": "2021-02-05T11:41:48.500178Z",
     "iopub.status.busy": "2021-02-05T11:41:48.499329Z",
     "iopub.status.idle": "2021-02-05T11:41:48.514606Z",
     "shell.execute_reply": "2021-02-05T11:41:48.512239Z",
     "shell.execute_reply.started": "2021-02-05T11:41:48.500122Z"
    }
   },
   "outputs": [
    {
     "data": {
      "text/plain": [
       "id                        int64\n",
       "gender                   object\n",
       "age                       int64\n",
       "region_code             float64\n",
       "policy_sales_channel    float64\n",
       "previously_insured        int64\n",
       "annual_premium          float64\n",
       "vintage                   int64\n",
       "driving_license           int64\n",
       "vehicle_age              object\n",
       "vehicle_damage           object\n",
       "response                  int64\n",
       "dtype: object"
      ]
     },
     "execution_count": 100,
     "metadata": {},
     "output_type": "execute_result"
    }
   ],
   "source": [
    "df_dd.dtypes"
   ]
  },
  {
   "cell_type": "code",
   "execution_count": 101,
   "id": "western-wallace",
   "metadata": {
    "execution": {
     "iopub.execute_input": "2021-02-05T11:41:48.518206Z",
     "iopub.status.busy": "2021-02-05T11:41:48.517651Z",
     "iopub.status.idle": "2021-02-05T11:41:48.543306Z",
     "shell.execute_reply": "2021-02-05T11:41:48.542104Z",
     "shell.execute_reply.started": "2021-02-05T11:41:48.518085Z"
    }
   },
   "outputs": [
    {
     "data": {
      "text/plain": [
       "id                        int64\n",
       "gender                   object\n",
       "age                       int64\n",
       "region_code               int64\n",
       "policy_sales_channel      int64\n",
       "previously_insured        int64\n",
       "annual_premium          float64\n",
       "vintage                   int64\n",
       "driving_license           int64\n",
       "vehicle_age              object\n",
       "vehicle_damage           object\n",
       "response                  int64\n",
       "dtype: object"
      ]
     },
     "execution_count": 101,
     "metadata": {},
     "output_type": "execute_result"
    }
   ],
   "source": [
    "# change the feature region_code to int\n",
    "df_dd['region_code'] = df_dd['region_code'].astype(int)\n",
    "\n",
    "# change the feature policy_sales_channel to int\n",
    "df_dd['policy_sales_channel'] = df_dd['policy_sales_channel'].astype(int)\n",
    "\n",
    "df_dd.dtypes"
   ]
  },
  {
   "cell_type": "markdown",
   "id": "broad-plaza",
   "metadata": {},
   "source": [
    "## 2.3. Check NAs"
   ]
  },
  {
   "cell_type": "code",
   "execution_count": 102,
   "id": "accompanied-birmingham",
   "metadata": {
    "execution": {
     "iopub.execute_input": "2021-02-05T11:41:48.545198Z",
     "iopub.status.busy": "2021-02-05T11:41:48.544860Z",
     "iopub.status.idle": "2021-02-05T11:41:48.727337Z",
     "shell.execute_reply": "2021-02-05T11:41:48.726475Z",
     "shell.execute_reply.started": "2021-02-05T11:41:48.545167Z"
    }
   },
   "outputs": [
    {
     "data": {
      "text/plain": [
       "id                      0\n",
       "gender                  0\n",
       "age                     0\n",
       "region_code             0\n",
       "policy_sales_channel    0\n",
       "previously_insured      0\n",
       "annual_premium          0\n",
       "vintage                 0\n",
       "driving_license         0\n",
       "vehicle_age             0\n",
       "vehicle_damage          0\n",
       "response                0\n",
       "dtype: int64"
      ]
     },
     "execution_count": 102,
     "metadata": {},
     "output_type": "execute_result"
    }
   ],
   "source": [
    "df_dd.isna().sum()"
   ]
  },
  {
   "cell_type": "markdown",
   "id": "broken-spirituality",
   "metadata": {},
   "source": [
    "No NAs found, no further action needed."
   ]
  },
  {
   "cell_type": "markdown",
   "id": "catholic-likelihood",
   "metadata": {},
   "source": [
    "## 2.4. Descriptive Statistics"
   ]
  },
  {
   "cell_type": "code",
   "execution_count": 103,
   "id": "inappropriate-bachelor",
   "metadata": {
    "execution": {
     "iopub.execute_input": "2021-02-05T11:41:48.731816Z",
     "iopub.status.busy": "2021-02-05T11:41:48.731257Z",
     "iopub.status.idle": "2021-02-05T11:41:48.739105Z",
     "shell.execute_reply": "2021-02-05T11:41:48.738036Z",
     "shell.execute_reply.started": "2021-02-05T11:41:48.731773Z"
    }
   },
   "outputs": [],
   "source": [
    "# lets separate the features in numerical and categorical\n",
    "num_features = ['age', 'region_code', 'policy_sales_channel', 'annual_premium', 'vintage']\n",
    "cat_features = ['gender', 'previously_insured', 'driving_license', 'vehicle_age', 'vehicle_damage', 'response'] # include response to make some analysis"
   ]
  },
  {
   "cell_type": "markdown",
   "id": "desirable-swing",
   "metadata": {},
   "source": [
    "### 2.4.1. Numerical Features"
   ]
  },
  {
   "cell_type": "code",
   "execution_count": 104,
   "id": "threaded-virginia",
   "metadata": {
    "execution": {
     "iopub.execute_input": "2021-02-05T11:41:48.741468Z",
     "iopub.status.busy": "2021-02-05T11:41:48.740850Z",
     "iopub.status.idle": "2021-02-05T11:41:48.984218Z",
     "shell.execute_reply": "2021-02-05T11:41:48.983029Z",
     "shell.execute_reply.started": "2021-02-05T11:41:48.741417Z"
    }
   },
   "outputs": [],
   "source": [
    "# Central Tendency\n",
    "ct1 = df_dd[num_features].apply(np.mean)\n",
    "ct2 = df_dd[num_features].apply(np.median)\n",
    "\n",
    "# Dispersion\n",
    "d1 = df_dd[num_features].apply(np.std)\n",
    "d2 = df_dd[num_features].min()\n",
    "d3 = df_dd[num_features].max()\n",
    "d4 = df_dd[num_features].apply(lambda x: x.max() - x.min())\n",
    "d5 = df_dd[num_features].skew()\n",
    "d6 = df_dd[num_features].kurtosis()"
   ]
  },
  {
   "cell_type": "code",
   "execution_count": 105,
   "id": "organizational-upset",
   "metadata": {
    "execution": {
     "iopub.execute_input": "2021-02-05T11:41:48.986586Z",
     "iopub.status.busy": "2021-02-05T11:41:48.986319Z",
     "iopub.status.idle": "2021-02-05T11:41:49.004538Z",
     "shell.execute_reply": "2021-02-05T11:41:49.002006Z",
     "shell.execute_reply.started": "2021-02-05T11:41:48.986559Z"
    }
   },
   "outputs": [],
   "source": [
    "df_metrics = pd.DataFrame([ct1, ct2, d1, d2, d3, d4, d5, d6]).T.reset_index()\n",
    "df_metrics.columns = ['feature', 'mean', 'median', 'std', 'min', 'max', 'range', 'skew', 'kurtosis']"
   ]
  },
  {
   "cell_type": "code",
   "execution_count": 106,
   "id": "disciplinary-computer",
   "metadata": {
    "execution": {
     "iopub.execute_input": "2021-02-05T11:41:49.008006Z",
     "iopub.status.busy": "2021-02-05T11:41:49.007560Z",
     "iopub.status.idle": "2021-02-05T11:41:49.042118Z",
     "shell.execute_reply": "2021-02-05T11:41:49.040928Z",
     "shell.execute_reply.started": "2021-02-05T11:41:49.007962Z"
    }
   },
   "outputs": [
    {
     "data": {
      "text/html": [
       "<div>\n",
       "<style scoped>\n",
       "    .dataframe tbody tr th:only-of-type {\n",
       "        vertical-align: middle;\n",
       "    }\n",
       "\n",
       "    .dataframe tbody tr th {\n",
       "        vertical-align: top;\n",
       "    }\n",
       "\n",
       "    .dataframe thead th {\n",
       "        text-align: right;\n",
       "    }\n",
       "</style>\n",
       "<table border=\"1\" class=\"dataframe\">\n",
       "  <thead>\n",
       "    <tr style=\"text-align: right;\">\n",
       "      <th></th>\n",
       "      <th>feature</th>\n",
       "      <th>mean</th>\n",
       "      <th>median</th>\n",
       "      <th>std</th>\n",
       "      <th>min</th>\n",
       "      <th>max</th>\n",
       "      <th>range</th>\n",
       "      <th>skew</th>\n",
       "      <th>kurtosis</th>\n",
       "    </tr>\n",
       "  </thead>\n",
       "  <tbody>\n",
       "    <tr>\n",
       "      <th>0</th>\n",
       "      <td>age</td>\n",
       "      <td>38.822584</td>\n",
       "      <td>36.0</td>\n",
       "      <td>15.511591</td>\n",
       "      <td>20.0</td>\n",
       "      <td>85.0</td>\n",
       "      <td>65.0</td>\n",
       "      <td>0.672539</td>\n",
       "      <td>-0.565655</td>\n",
       "    </tr>\n",
       "    <tr>\n",
       "      <th>1</th>\n",
       "      <td>region_code</td>\n",
       "      <td>26.388807</td>\n",
       "      <td>28.0</td>\n",
       "      <td>13.229871</td>\n",
       "      <td>0.0</td>\n",
       "      <td>52.0</td>\n",
       "      <td>52.0</td>\n",
       "      <td>-0.115266</td>\n",
       "      <td>-0.867857</td>\n",
       "    </tr>\n",
       "    <tr>\n",
       "      <th>2</th>\n",
       "      <td>policy_sales_channel</td>\n",
       "      <td>112.034295</td>\n",
       "      <td>133.0</td>\n",
       "      <td>54.203924</td>\n",
       "      <td>1.0</td>\n",
       "      <td>163.0</td>\n",
       "      <td>162.0</td>\n",
       "      <td>-0.900008</td>\n",
       "      <td>-0.970810</td>\n",
       "    </tr>\n",
       "    <tr>\n",
       "      <th>3</th>\n",
       "      <td>annual_premium</td>\n",
       "      <td>30564.389581</td>\n",
       "      <td>31669.0</td>\n",
       "      <td>17213.132474</td>\n",
       "      <td>2630.0</td>\n",
       "      <td>540165.0</td>\n",
       "      <td>537535.0</td>\n",
       "      <td>1.766087</td>\n",
       "      <td>34.004569</td>\n",
       "    </tr>\n",
       "    <tr>\n",
       "      <th>4</th>\n",
       "      <td>vintage</td>\n",
       "      <td>154.347397</td>\n",
       "      <td>154.0</td>\n",
       "      <td>83.671194</td>\n",
       "      <td>10.0</td>\n",
       "      <td>299.0</td>\n",
       "      <td>289.0</td>\n",
       "      <td>0.003030</td>\n",
       "      <td>-1.200688</td>\n",
       "    </tr>\n",
       "  </tbody>\n",
       "</table>\n",
       "</div>"
      ],
      "text/plain": [
       "                feature          mean   median           std     min  \\\n",
       "0                   age     38.822584     36.0     15.511591    20.0   \n",
       "1           region_code     26.388807     28.0     13.229871     0.0   \n",
       "2  policy_sales_channel    112.034295    133.0     54.203924     1.0   \n",
       "3        annual_premium  30564.389581  31669.0  17213.132474  2630.0   \n",
       "4               vintage    154.347397    154.0     83.671194    10.0   \n",
       "\n",
       "        max     range      skew   kurtosis  \n",
       "0      85.0      65.0  0.672539  -0.565655  \n",
       "1      52.0      52.0 -0.115266  -0.867857  \n",
       "2     163.0     162.0 -0.900008  -0.970810  \n",
       "3  540165.0  537535.0  1.766087  34.004569  \n",
       "4     299.0     289.0  0.003030  -1.200688  "
      ]
     },
     "execution_count": 106,
     "metadata": {},
     "output_type": "execute_result"
    }
   ],
   "source": [
    "df_metrics"
   ]
  },
  {
   "cell_type": "code",
   "execution_count": 107,
   "id": "successful-jimmy",
   "metadata": {
    "execution": {
     "iopub.execute_input": "2021-02-05T11:41:49.044469Z",
     "iopub.status.busy": "2021-02-05T11:41:49.043725Z",
     "iopub.status.idle": "2021-02-05T11:41:49.945100Z",
     "shell.execute_reply": "2021-02-05T11:41:49.944286Z",
     "shell.execute_reply.started": "2021-02-05T11:41:49.044415Z"
    }
   },
   "outputs": [
    {
     "data": {
      "image/png": "[encoded data removed]",
      "text/plain": [
       "<Figure size 1296x432 with 1 Axes>"
      ]
     },
     "metadata": {},
     "output_type": "display_data"
    }
   ],
   "source": [
    "sns.displot(df_dd['annual_premium'], height=6, aspect=3, bins=150);"
   ]
  },
  {
   "cell_type": "code",
   "execution_count": 108,
   "id": "cellular-planner",
   "metadata": {
    "execution": {
     "iopub.execute_input": "2021-02-05T11:41:49.947017Z",
     "iopub.status.busy": "2021-02-05T11:41:49.946582Z",
     "iopub.status.idle": "2021-02-05T11:41:50.162287Z",
     "shell.execute_reply": "2021-02-05T11:41:50.161538Z",
     "shell.execute_reply.started": "2021-02-05T11:41:49.946948Z"
    }
   },
   "outputs": [
    {
     "data": {
      "image/png": "[encoded data removed]",
      "text/plain": [
       "<Figure size 1800x576 with 1 Axes>"
      ]
     },
     "metadata": {},
     "output_type": "display_data"
    }
   ],
   "source": [
    "sns.boxplot(x = 'annual_premium', data=df_dd);"
   ]
  },
  {
   "cell_type": "markdown",
   "id": "communist-england",
   "metadata": {},
   "source": [
    "### 2.4.2. Categorical Features"
   ]
  },
  {
   "cell_type": "code",
   "execution_count": 109,
   "id": "medical-speaking",
   "metadata": {
    "execution": {
     "iopub.execute_input": "2021-02-05T11:41:50.164413Z",
     "iopub.status.busy": "2021-02-05T11:41:50.164118Z",
     "iopub.status.idle": "2021-02-05T11:41:50.387257Z",
     "shell.execute_reply": "2021-02-05T11:41:50.386198Z",
     "shell.execute_reply.started": "2021-02-05T11:41:50.164386Z"
    }
   },
   "outputs": [
    {
     "data": {
      "text/plain": [
       "gender                2\n",
       "previously_insured    2\n",
       "driving_license       2\n",
       "vehicle_age           3\n",
       "vehicle_damage        2\n",
       "response              2\n",
       "dtype: int64"
      ]
     },
     "execution_count": 109,
     "metadata": {},
     "output_type": "execute_result"
    }
   ],
   "source": [
    "df_dd[cat_features].apply(lambda x: x.unique().shape[0])"
   ]
  },
  {
   "cell_type": "code",
   "execution_count": 110,
   "id": "requested-element",
   "metadata": {
    "execution": {
     "iopub.execute_input": "2021-02-05T11:41:50.389386Z",
     "iopub.status.busy": "2021-02-05T11:41:50.388888Z",
     "iopub.status.idle": "2021-02-05T11:42:01.091677Z",
     "shell.execute_reply": "2021-02-05T11:42:01.090921Z",
     "shell.execute_reply.started": "2021-02-05T11:41:50.389344Z"
    }
   },
   "outputs": [
    {
     "data": {
      "image/png": "[encoded data removed]",
      "text/plain": [
       "<Figure size 720x360 with 2 Axes>"
      ]
     },
     "metadata": {},
     "output_type": "display_data"
    },
    {
     "data": {
      "image/png": "[encoded data removed]",
      "text/plain": [
       "<Figure size 720x360 with 2 Axes>"
      ]
     },
     "metadata": {},
     "output_type": "display_data"
    },
    {
     "data": {
      "image/png": "[encoded data removed]",
      "text/plain": [
       "<Figure size 720x360 with 2 Axes>"
      ]
     },
     "metadata": {},
     "output_type": "display_data"
    },
    {
     "data": {
      "image/png": "[encoded data removed]",
      "text/plain": [
       "<Figure size 1080x360 with 3 Axes>"
      ]
     },
     "metadata": {},
     "output_type": "display_data"
    },
    {
     "data": {
      "image/png": "[encoded data removed]",
      "text/plain": [
       "<Figure size 720x360 with 2 Axes>"
      ]
     },
     "metadata": {},
     "output_type": "display_data"
    }
   ],
   "source": [
    "sns.catplot(x='response', col='gender', kind='count', data=df_dd[cat_features])\n",
    "sns.catplot(x='response', col='previously_insured', kind='count', data=df_dd[cat_features])\n",
    "sns.catplot(x='response', col='driving_license', kind='count', data=df_dd[cat_features])\n",
    "sns.catplot(x='response', col='vehicle_age', kind='count', data=df_dd[cat_features]);\n",
    "sns.catplot(x='response', col='vehicle_damage', kind='count', data=df_dd[cat_features]);"
   ]
  },
  {
   "cell_type": "markdown",
   "id": "single-florence",
   "metadata": {},
   "source": [
    "### 2.4.3. Response Variable"
   ]
  },
  {
   "cell_type": "code",
   "execution_count": 111,
   "id": "czech-state",
   "metadata": {
    "execution": {
     "iopub.execute_input": "2021-02-05T11:42:01.093207Z",
     "iopub.status.busy": "2021-02-05T11:42:01.092882Z",
     "iopub.status.idle": "2021-02-05T11:42:01.106260Z",
     "shell.execute_reply": "2021-02-05T11:42:01.105304Z",
     "shell.execute_reply.started": "2021-02-05T11:42:01.093166Z"
    }
   },
   "outputs": [
    {
     "data": {
      "text/plain": [
       "0    0.877437\n",
       "1    0.122563\n",
       "Name: response, dtype: float64"
      ]
     },
     "execution_count": 111,
     "metadata": {},
     "output_type": "execute_result"
    }
   ],
   "source": [
    "df_dd['response'].value_counts(normalize=True)"
   ]
  },
  {
   "cell_type": "markdown",
   "id": "aquatic-volleyball",
   "metadata": {},
   "source": [
    "We have an unbalanced problem, because only 12% of our samples have the response label = 1"
   ]
  },
  {
   "cell_type": "markdown",
   "id": "adolescent-plate",
   "metadata": {},
   "source": [
    "# 3. Feature Engineering"
   ]
  },
  {
   "cell_type": "code",
   "execution_count": 112,
   "id": "stylish-baker",
   "metadata": {
    "execution": {
     "iopub.execute_input": "2021-02-05T11:42:01.107868Z",
     "iopub.status.busy": "2021-02-05T11:42:01.107443Z",
     "iopub.status.idle": "2021-02-05T11:42:01.153658Z",
     "shell.execute_reply": "2021-02-05T11:42:01.149726Z",
     "shell.execute_reply.started": "2021-02-05T11:42:01.107840Z"
    }
   },
   "outputs": [],
   "source": [
    "df_fe = df_dd.copy()"
   ]
  },
  {
   "cell_type": "code",
   "execution_count": 113,
   "id": "regional-monitor",
   "metadata": {
    "execution": {
     "iopub.execute_input": "2021-02-05T11:42:01.157984Z",
     "iopub.status.busy": "2021-02-05T11:42:01.156848Z",
     "iopub.status.idle": "2021-02-05T11:42:01.204789Z",
     "shell.execute_reply": "2021-02-05T11:42:01.200229Z",
     "shell.execute_reply.started": "2021-02-05T11:42:01.157888Z"
    }
   },
   "outputs": [
    {
     "data": {
      "text/html": [
       "<div>\n",
       "<style scoped>\n",
       "    .dataframe tbody tr th:only-of-type {\n",
       "        vertical-align: middle;\n",
       "    }\n",
       "\n",
       "    .dataframe tbody tr th {\n",
       "        vertical-align: top;\n",
       "    }\n",
       "\n",
       "    .dataframe thead th {\n",
       "        text-align: right;\n",
       "    }\n",
       "</style>\n",
       "<table border=\"1\" class=\"dataframe\">\n",
       "  <thead>\n",
       "    <tr style=\"text-align: right;\">\n",
       "      <th></th>\n",
       "      <th>id</th>\n",
       "      <th>gender</th>\n",
       "      <th>age</th>\n",
       "      <th>region_code</th>\n",
       "      <th>policy_sales_channel</th>\n",
       "      <th>previously_insured</th>\n",
       "      <th>annual_premium</th>\n",
       "      <th>vintage</th>\n",
       "      <th>driving_license</th>\n",
       "      <th>vehicle_age</th>\n",
       "      <th>vehicle_damage</th>\n",
       "      <th>response</th>\n",
       "    </tr>\n",
       "  </thead>\n",
       "  <tbody>\n",
       "    <tr>\n",
       "      <th>0</th>\n",
       "      <td>7</td>\n",
       "      <td>Male</td>\n",
       "      <td>23</td>\n",
       "      <td>11</td>\n",
       "      <td>152</td>\n",
       "      <td>0</td>\n",
       "      <td>23367.0</td>\n",
       "      <td>249</td>\n",
       "      <td>1</td>\n",
       "      <td>&lt; 1 Year</td>\n",
       "      <td>Yes</td>\n",
       "      <td>0</td>\n",
       "    </tr>\n",
       "    <tr>\n",
       "      <th>1</th>\n",
       "      <td>13</td>\n",
       "      <td>Female</td>\n",
       "      <td>41</td>\n",
       "      <td>15</td>\n",
       "      <td>14</td>\n",
       "      <td>1</td>\n",
       "      <td>31409.0</td>\n",
       "      <td>221</td>\n",
       "      <td>1</td>\n",
       "      <td>1-2 Year</td>\n",
       "      <td>No</td>\n",
       "      <td>0</td>\n",
       "    </tr>\n",
       "    <tr>\n",
       "      <th>2</th>\n",
       "      <td>18</td>\n",
       "      <td>Female</td>\n",
       "      <td>25</td>\n",
       "      <td>35</td>\n",
       "      <td>152</td>\n",
       "      <td>1</td>\n",
       "      <td>46622.0</td>\n",
       "      <td>299</td>\n",
       "      <td>1</td>\n",
       "      <td>&lt; 1 Year</td>\n",
       "      <td>No</td>\n",
       "      <td>0</td>\n",
       "    </tr>\n",
       "    <tr>\n",
       "      <th>3</th>\n",
       "      <td>31</td>\n",
       "      <td>Female</td>\n",
       "      <td>26</td>\n",
       "      <td>8</td>\n",
       "      <td>160</td>\n",
       "      <td>0</td>\n",
       "      <td>2630.0</td>\n",
       "      <td>136</td>\n",
       "      <td>1</td>\n",
       "      <td>&lt; 1 Year</td>\n",
       "      <td>No</td>\n",
       "      <td>0</td>\n",
       "    </tr>\n",
       "    <tr>\n",
       "      <th>4</th>\n",
       "      <td>39</td>\n",
       "      <td>Male</td>\n",
       "      <td>45</td>\n",
       "      <td>8</td>\n",
       "      <td>124</td>\n",
       "      <td>0</td>\n",
       "      <td>42297.0</td>\n",
       "      <td>264</td>\n",
       "      <td>1</td>\n",
       "      <td>1-2 Year</td>\n",
       "      <td>Yes</td>\n",
       "      <td>0</td>\n",
       "    </tr>\n",
       "  </tbody>\n",
       "</table>\n",
       "</div>"
      ],
      "text/plain": [
       "   id  gender  age  region_code  policy_sales_channel  previously_insured  \\\n",
       "0   7    Male   23           11                   152                   0   \n",
       "1  13  Female   41           15                    14                   1   \n",
       "2  18  Female   25           35                   152                   1   \n",
       "3  31  Female   26            8                   160                   0   \n",
       "4  39    Male   45            8                   124                   0   \n",
       "\n",
       "   annual_premium  vintage  driving_license vehicle_age vehicle_damage  \\\n",
       "0         23367.0      249                1    < 1 Year            Yes   \n",
       "1         31409.0      221                1    1-2 Year             No   \n",
       "2         46622.0      299                1    < 1 Year             No   \n",
       "3          2630.0      136                1    < 1 Year             No   \n",
       "4         42297.0      264                1    1-2 Year            Yes   \n",
       "\n",
       "   response  \n",
       "0         0  \n",
       "1         0  \n",
       "2         0  \n",
       "3         0  \n",
       "4         0  "
      ]
     },
     "execution_count": 113,
     "metadata": {},
     "output_type": "execute_result"
    }
   ],
   "source": [
    "df_fe.head()"
   ]
  },
  {
   "cell_type": "markdown",
   "id": "eligible-steps",
   "metadata": {},
   "source": [
    "No new feature for now"
   ]
  },
  {
   "cell_type": "markdown",
   "id": "underlying-orlando",
   "metadata": {},
   "source": [
    "# 4. Exploratory Data Analysis"
   ]
  },
  {
   "cell_type": "code",
   "execution_count": 114,
   "id": "impaired-thickness",
   "metadata": {
    "execution": {
     "iopub.execute_input": "2021-02-05T11:42:01.210284Z",
     "iopub.status.busy": "2021-02-05T11:42:01.209535Z",
     "iopub.status.idle": "2021-02-05T11:42:01.262152Z",
     "shell.execute_reply": "2021-02-05T11:42:01.260067Z",
     "shell.execute_reply.started": "2021-02-05T11:42:01.210221Z"
    }
   },
   "outputs": [],
   "source": [
    "df_eda = df_fe.copy()"
   ]
  },
  {
   "cell_type": "markdown",
   "id": "sharp-driver",
   "metadata": {},
   "source": [
    "## 4.1. Univariate Analysis"
   ]
  },
  {
   "cell_type": "markdown",
   "id": "outer-narrative",
   "metadata": {},
   "source": [
    "### 4.1.1. Numerical Features"
   ]
  },
  {
   "cell_type": "code",
   "execution_count": 115,
   "id": "serious-steering",
   "metadata": {
    "execution": {
     "iopub.execute_input": "2021-02-05T11:42:01.265132Z",
     "iopub.status.busy": "2021-02-05T11:42:01.264482Z",
     "iopub.status.idle": "2021-02-05T11:42:02.178078Z",
     "shell.execute_reply": "2021-02-05T11:42:02.177416Z",
     "shell.execute_reply.started": "2021-02-05T11:42:01.265075Z"
    }
   },
   "outputs": [
    {
     "data": {
      "image/png": "[encoded data removed]",
      "text/plain": [
       "<Figure size 1800x1080 with 4 Axes>"
      ]
     },
     "metadata": {},
     "output_type": "display_data"
    }
   ],
   "source": [
    "df_eda[['id', 'age', 'annual_premium', 'vintage']].hist(bins=25, figsize=(25,15));"
   ]
  },
  {
   "cell_type": "markdown",
   "id": "young-visibility",
   "metadata": {},
   "source": [
    "By looking at the numerical features alone, we can observe:\n",
    "- The most commom age between our customers is around 20-25 yo, although, we have a good concentration of customers between 30 and 50 yo.\n",
    "- The majority of our customers have annual premiums lower than aprox. 50k.\n",
    "- Our base of clients is well distributed when looking at vintage."
   ]
  },
  {
   "cell_type": "markdown",
   "id": "curious-clear",
   "metadata": {},
   "source": [
    "### 4.1.2. Categorical Features"
   ]
  },
  {
   "cell_type": "code",
   "execution_count": 116,
   "id": "consolidated-gasoline",
   "metadata": {
    "execution": {
     "iopub.execute_input": "2021-02-05T11:42:02.179403Z",
     "iopub.status.busy": "2021-02-05T11:42:02.179106Z",
     "iopub.status.idle": "2021-02-05T11:42:02.198604Z",
     "shell.execute_reply": "2021-02-05T11:42:02.197904Z",
     "shell.execute_reply.started": "2021-02-05T11:42:02.179367Z"
    }
   },
   "outputs": [
    {
     "data": {
      "text/html": [
       "<div>\n",
       "<style scoped>\n",
       "    .dataframe tbody tr th:only-of-type {\n",
       "        vertical-align: middle;\n",
       "    }\n",
       "\n",
       "    .dataframe tbody tr th {\n",
       "        vertical-align: top;\n",
       "    }\n",
       "\n",
       "    .dataframe thead th {\n",
       "        text-align: right;\n",
       "    }\n",
       "</style>\n",
       "<table border=\"1\" class=\"dataframe\">\n",
       "  <thead>\n",
       "    <tr style=\"text-align: right;\">\n",
       "      <th></th>\n",
       "      <th>id</th>\n",
       "      <th>gender</th>\n",
       "      <th>age</th>\n",
       "      <th>region_code</th>\n",
       "      <th>policy_sales_channel</th>\n",
       "      <th>previously_insured</th>\n",
       "      <th>annual_premium</th>\n",
       "      <th>vintage</th>\n",
       "      <th>driving_license</th>\n",
       "      <th>vehicle_age</th>\n",
       "      <th>vehicle_damage</th>\n",
       "      <th>response</th>\n",
       "    </tr>\n",
       "  </thead>\n",
       "  <tbody>\n",
       "    <tr>\n",
       "      <th>0</th>\n",
       "      <td>7</td>\n",
       "      <td>Male</td>\n",
       "      <td>23</td>\n",
       "      <td>11</td>\n",
       "      <td>152</td>\n",
       "      <td>0</td>\n",
       "      <td>23367.0</td>\n",
       "      <td>249</td>\n",
       "      <td>1</td>\n",
       "      <td>&lt; 1 Year</td>\n",
       "      <td>Yes</td>\n",
       "      <td>0</td>\n",
       "    </tr>\n",
       "    <tr>\n",
       "      <th>1</th>\n",
       "      <td>13</td>\n",
       "      <td>Female</td>\n",
       "      <td>41</td>\n",
       "      <td>15</td>\n",
       "      <td>14</td>\n",
       "      <td>1</td>\n",
       "      <td>31409.0</td>\n",
       "      <td>221</td>\n",
       "      <td>1</td>\n",
       "      <td>1-2 Year</td>\n",
       "      <td>No</td>\n",
       "      <td>0</td>\n",
       "    </tr>\n",
       "    <tr>\n",
       "      <th>2</th>\n",
       "      <td>18</td>\n",
       "      <td>Female</td>\n",
       "      <td>25</td>\n",
       "      <td>35</td>\n",
       "      <td>152</td>\n",
       "      <td>1</td>\n",
       "      <td>46622.0</td>\n",
       "      <td>299</td>\n",
       "      <td>1</td>\n",
       "      <td>&lt; 1 Year</td>\n",
       "      <td>No</td>\n",
       "      <td>0</td>\n",
       "    </tr>\n",
       "    <tr>\n",
       "      <th>3</th>\n",
       "      <td>31</td>\n",
       "      <td>Female</td>\n",
       "      <td>26</td>\n",
       "      <td>8</td>\n",
       "      <td>160</td>\n",
       "      <td>0</td>\n",
       "      <td>2630.0</td>\n",
       "      <td>136</td>\n",
       "      <td>1</td>\n",
       "      <td>&lt; 1 Year</td>\n",
       "      <td>No</td>\n",
       "      <td>0</td>\n",
       "    </tr>\n",
       "    <tr>\n",
       "      <th>4</th>\n",
       "      <td>39</td>\n",
       "      <td>Male</td>\n",
       "      <td>45</td>\n",
       "      <td>8</td>\n",
       "      <td>124</td>\n",
       "      <td>0</td>\n",
       "      <td>42297.0</td>\n",
       "      <td>264</td>\n",
       "      <td>1</td>\n",
       "      <td>1-2 Year</td>\n",
       "      <td>Yes</td>\n",
       "      <td>0</td>\n",
       "    </tr>\n",
       "  </tbody>\n",
       "</table>\n",
       "</div>"
      ],
      "text/plain": [
       "   id  gender  age  region_code  policy_sales_channel  previously_insured  \\\n",
       "0   7    Male   23           11                   152                   0   \n",
       "1  13  Female   41           15                    14                   1   \n",
       "2  18  Female   25           35                   152                   1   \n",
       "3  31  Female   26            8                   160                   0   \n",
       "4  39    Male   45            8                   124                   0   \n",
       "\n",
       "   annual_premium  vintage  driving_license vehicle_age vehicle_damage  \\\n",
       "0         23367.0      249                1    < 1 Year            Yes   \n",
       "1         31409.0      221                1    1-2 Year             No   \n",
       "2         46622.0      299                1    < 1 Year             No   \n",
       "3          2630.0      136                1    < 1 Year             No   \n",
       "4         42297.0      264                1    1-2 Year            Yes   \n",
       "\n",
       "   response  \n",
       "0         0  \n",
       "1         0  \n",
       "2         0  \n",
       "3         0  \n",
       "4         0  "
      ]
     },
     "execution_count": 116,
     "metadata": {},
     "output_type": "execute_result"
    }
   ],
   "source": [
    "df_eda.head()"
   ]
  },
  {
   "cell_type": "code",
   "execution_count": 131,
   "id": "unlimited-penguin",
   "metadata": {
    "execution": {
     "iopub.execute_input": "2021-02-05T12:02:11.822519Z",
     "iopub.status.busy": "2021-02-05T12:02:11.822203Z",
     "iopub.status.idle": "2021-02-05T12:02:15.759170Z",
     "shell.execute_reply": "2021-02-05T12:02:15.758441Z",
     "shell.execute_reply.started": "2021-02-05T12:02:11.822489Z"
    }
   },
   "outputs": [
    {
     "data": {
      "image/png": "[encoded data removed]",
      "text/plain": [
       "<Figure size 1800x576 with 5 Axes>"
      ]
     },
     "metadata": {},
     "output_type": "display_data"
    },
    {
     "data": {
      "image/png": "[encoded data removed]",
      "text/plain": [
       "<Figure size 1800x576 with 1 Axes>"
      ]
     },
     "metadata": {},
     "output_type": "display_data"
    },
    {
     "data": {
      "image/png": "[encoded data removed]",
      "text/plain": [
       "<Figure size 1800x576 with 1 Axes>"
      ]
     },
     "metadata": {},
     "output_type": "display_data"
    }
   ],
   "source": [
    "# gender\n",
    "df_gender = df_eda['gender'].value_counts(normalize=True).reset_index().rename(columns={'index': 'values', 'gender': 'perc'})\n",
    "df_gender['feature'] = 'gender'\n",
    "\n",
    "# region_code\n",
    "df_region_code = df_eda['region_code'].value_counts(normalize=True).reset_index().rename(columns={'index': 'values', 'region_code': 'perc'})\n",
    "df_region_code['feature'] = 'region_code'\n",
    "\n",
    "# policy_sales_channel\n",
    "df_policy_sales_channel = df_eda['policy_sales_channel'].value_counts(normalize=True).reset_index().rename(columns={'index': 'values', 'policy_sales_channel': 'perc'})\n",
    "df_policy_sales_channel['feature'] = 'policy_sales_channel'\n",
    "\n",
    "# previously_insured\n",
    "df_previously_insured = df_eda['previously_insured'].value_counts(normalize=True).reset_index().rename(columns={'index': 'values', 'previously_insured': 'perc'})\n",
    "df_previously_insured['feature'] = 'previously_insured'\n",
    "\n",
    "# driving_license\n",
    "df_driving_license = df_eda['driving_license'].value_counts(normalize=True).reset_index().rename(columns={'index': 'values', 'driving_license': 'perc'})\n",
    "df_driving_license['feature'] = 'driving_license'\n",
    "\n",
    "# vehicle_age\n",
    "df_vehicle_age = df_eda['vehicle_age'].value_counts(normalize=True).reset_index().rename(columns={'index': 'values', 'vehicle_age': 'perc'})\n",
    "df_vehicle_age['feature'] = 'vehicle_age'\n",
    "\n",
    "# vehicle_damage'\n",
    "df_vehicle_damage = df_eda['vehicle_damage'].value_counts(normalize=True).reset_index().rename(columns={'index': 'values', 'vehicle_damage': 'perc'})\n",
    "df_vehicle_damage['feature'] = 'vehicle_damage'\n",
    "\n",
    "df_cat = pd.concat([df_gender, df_region_code, df_policy_sales_channel, df_previously_insured, \n",
    "                    df_driving_license, df_vehicle_age, df_vehicle_damage])\n",
    "\n",
    "plt.subplot(2, 3, 1)\n",
    "sns.barplot(x='values', y='perc', data=df_cat[df_cat['feature'] == 'gender']);\n",
    "plt.ylabel('[%]', loc='top', labelpad=-15, fontsize=10, rotation='horizontal')\n",
    "plt.xlabel('')\n",
    "plt.title('Distribution of Gender values in Dataset');\n",
    "\n",
    "plt.subplot(2, 3, 2)\n",
    "sns.barplot(x='values', y='perc', data=df_cat[df_cat['feature'] == 'previously_insured']);\n",
    "plt.ylabel('[%]', loc='top', labelpad=-15, fontsize=10, rotation='horizontal')\n",
    "plt.xlabel('')\n",
    "plt.title('Distribution of Previously Insured values in Dataset');\n",
    "\n",
    "plt.subplot(2, 3, 3)\n",
    "sns.barplot(x='values', y='perc', data=df_cat[df_cat['feature'] == 'driving_license']);\n",
    "plt.ylabel('[%]', loc='top', labelpad=-15, fontsize=10, rotation='horizontal')\n",
    "plt.xlabel('')\n",
    "plt.title('Distribution of Driving License values in Dataset');\n",
    "\n",
    "plt.subplot(2, 3, 4)\n",
    "sns.barplot(x='values', y='perc', data=df_cat[df_cat['feature'] == 'vehicle_age']);\n",
    "plt.ylabel('[%]', loc='top', labelpad=-15, fontsize=10, rotation='horizontal')\n",
    "plt.xlabel('')\n",
    "plt.title('Distribution of Vehicle Age values in Dataset');\n",
    "\n",
    "plt.subplot(2, 3, 5)\n",
    "sns.barplot(x='values', y='perc', data=df_cat[df_cat['feature'] == 'vehicle_damage']);\n",
    "plt.ylabel('[%]', loc='top', labelpad=-15, fontsize=10, rotation='horizontal')\n",
    "plt.xlabel('')\n",
    "plt.title('Distribution of Vehicle Damage values in Dataset');\n",
    "\n",
    "plt.tight_layout()\n",
    "plt.show()\n",
    "\n",
    "perc_array = df_cat[df_cat['feature'] == 'region_code'][['values', 'perc']].sort_values('values')['perc'].to_list()\n",
    "colors = ['lightgrey' if x < max(perc_array) else 'b' for x in perc_array]\n",
    "sns.barplot(x='values', y='perc', data=df_cat[df_cat['feature'] == 'region_code'], palette=colors);\n",
    "plt.ylabel('[%]', loc='top', labelpad=-15, fontsize=10, rotation='horizontal')\n",
    "plt.xlabel('')\n",
    "plt.title('Distribution of Region Code values in Dataset')\n",
    "\n",
    "plt.show();\n",
    "\n",
    "aux = df_cat[df_cat['feature'] == 'policy_sales_channel'][['values', 'perc']].sort_values('values')\n",
    "xticks_array = aux.apply(lambda x: '' if x['perc'] < 0.15 else x['values'], axis=1).to_list()\n",
    "\n",
    "perc_array = aux['perc'].to_list()\n",
    "colors = ['lightgrey' if x < 0.15 else 'b' for x in perc_array]\n",
    "\n",
    "g = sns.barplot(x='values', y='perc', data=df_cat[df_cat['feature'] == 'policy_sales_channel'],palette=colors);\n",
    "plt.ylabel('[%]', loc='top', labelpad=-15, fontsize=10, rotation='horizontal')\n",
    "plt.xlabel('')\n",
    "g.set_xticks(range(len(xticks_array)))\n",
    "g.set_xticklabels(xticks_array)\n",
    "plt.title('Distribution of Policy Sales Channel values in Dataset');"
   ]
  },
  {
   "cell_type": "code",
   "execution_count": 118,
   "id": "medical-creek",
   "metadata": {
    "execution": {
     "iopub.execute_input": "2021-02-05T11:42:09.393750Z",
     "iopub.status.busy": "2021-02-05T11:42:09.393402Z",
     "iopub.status.idle": "2021-02-05T11:42:09.400618Z",
     "shell.execute_reply": "2021-02-05T11:42:09.399486Z",
     "shell.execute_reply.started": "2021-02-05T11:42:09.393716Z"
    }
   },
   "outputs": [
    {
     "data": {
      "text/plain": [
       "[(0.2980392156862745, 0.4470588235294118, 0.6901960784313725),\n",
       " (0.8666666666666667, 0.5176470588235295, 0.3215686274509804),\n",
       " (0.3333333333333333, 0.6588235294117647, 0.40784313725490196),\n",
       " (0.7686274509803922, 0.3058823529411765, 0.3215686274509804),\n",
       " (0.5058823529411764, 0.4470588235294118, 0.7019607843137254),\n",
       " (0.5764705882352941, 0.47058823529411764, 0.3764705882352941),\n",
       " (0.8549019607843137, 0.5450980392156862, 0.7647058823529411),\n",
       " (0.5490196078431373, 0.5490196078431373, 0.5490196078431373),\n",
       " (0.8, 0.7254901960784313, 0.4549019607843137),\n",
       " (0.39215686274509803, 0.7098039215686275, 0.803921568627451)]"
      ]
     },
     "execution_count": 118,
     "metadata": {},
     "output_type": "execute_result"
    }
   ],
   "source": [
    "sns.color_palette(as_cmap=True)"
   ]
  },
  {
   "cell_type": "code",
   "execution_count": 119,
   "id": "numeric-demonstration",
   "metadata": {
    "execution": {
     "iopub.execute_input": "2021-02-05T11:42:09.402316Z",
     "iopub.status.busy": "2021-02-05T11:42:09.401951Z",
     "iopub.status.idle": "2021-02-05T11:42:09.411714Z",
     "shell.execute_reply": "2021-02-05T11:42:09.410449Z",
     "shell.execute_reply.started": "2021-02-05T11:42:09.402277Z"
    }
   },
   "outputs": [
    {
     "data": {
      "text/html": [
       "<svg  width=\"550\" height=\"55\"><rect x=\"0\" y=\"0\" width=\"55\" height=\"55\" style=\"fill:#4c72b0;stroke-width:2;stroke:rgb(255,255,255)\"/><rect x=\"55\" y=\"0\" width=\"55\" height=\"55\" style=\"fill:#dd8452;stroke-width:2;stroke:rgb(255,255,255)\"/><rect x=\"110\" y=\"0\" width=\"55\" height=\"55\" style=\"fill:#55a868;stroke-width:2;stroke:rgb(255,255,255)\"/><rect x=\"165\" y=\"0\" width=\"55\" height=\"55\" style=\"fill:#c44e52;stroke-width:2;stroke:rgb(255,255,255)\"/><rect x=\"220\" y=\"0\" width=\"55\" height=\"55\" style=\"fill:#8172b3;stroke-width:2;stroke:rgb(255,255,255)\"/><rect x=\"275\" y=\"0\" width=\"55\" height=\"55\" style=\"fill:#937860;stroke-width:2;stroke:rgb(255,255,255)\"/><rect x=\"330\" y=\"0\" width=\"55\" height=\"55\" style=\"fill:#da8bc3;stroke-width:2;stroke:rgb(255,255,255)\"/><rect x=\"385\" y=\"0\" width=\"55\" height=\"55\" style=\"fill:#8c8c8c;stroke-width:2;stroke:rgb(255,255,255)\"/><rect x=\"440\" y=\"0\" width=\"55\" height=\"55\" style=\"fill:#ccb974;stroke-width:2;stroke:rgb(255,255,255)\"/><rect x=\"495\" y=\"0\" width=\"55\" height=\"55\" style=\"fill:#64b5cd;stroke-width:2;stroke:rgb(255,255,255)\"/></svg>"
      ],
      "text/plain": [
       "[(0.2980392156862745, 0.4470588235294118, 0.6901960784313725),\n",
       " (0.8666666666666667, 0.5176470588235295, 0.3215686274509804),\n",
       " (0.3333333333333333, 0.6588235294117647, 0.40784313725490196),\n",
       " (0.7686274509803922, 0.3058823529411765, 0.3215686274509804),\n",
       " (0.5058823529411764, 0.4470588235294118, 0.7019607843137254),\n",
       " (0.5764705882352941, 0.47058823529411764, 0.3764705882352941),\n",
       " (0.8549019607843137, 0.5450980392156862, 0.7647058823529411),\n",
       " (0.5490196078431373, 0.5490196078431373, 0.5490196078431373),\n",
       " (0.8, 0.7254901960784313, 0.4549019607843137),\n",
       " (0.39215686274509803, 0.7098039215686275, 0.803921568627451)]"
      ]
     },
     "execution_count": 119,
     "metadata": {},
     "output_type": "execute_result"
    }
   ],
   "source": [
    "sns.color_palette()"
   ]
  },
  {
   "cell_type": "markdown",
   "id": "ordered-feeling",
   "metadata": {},
   "source": [
    "## 4.x. Hypotheses"
   ]
  },
  {
   "cell_type": "markdown",
   "id": "unnecessary-insider",
   "metadata": {},
   "source": [
    "- 1. Older customers should be more interested in the vehicle insurance\n",
    "- 2. Customers without a driving license shouldn't be interested in the vehicle insurance\n",
    "- 3. Customers that got their vehicle damaged in the past should be more interested in the vehicle insurance\n",
    "- 4. Customers that already have vehicle insurance shouldn't be interested in the vehicle insurance\n",
    "- 5. Female customers should be more interested in the vehicle insurance"
   ]
  },
  {
   "cell_type": "code",
   "execution_count": null,
   "id": "right-literacy",
   "metadata": {},
   "outputs": [],
   "source": []
  }
 ],
 "metadata": {
  "kernelspec": {
   "display_name": "Python 3",
   "language": "python",
   "name": "python3"
  },
  "language_info": {
   "codemirror_mode": {
    "name": "ipython",
    "version": 3
   },
   "file_extension": ".py",
   "mimetype": "text/x-python",
   "name": "python",
   "nbconvert_exporter": "python",
   "pygments_lexer": "ipython3",
   "version": "3.8.5"
  }
 },
 "nbformat": 4,
 "nbformat_minor": 5
}
