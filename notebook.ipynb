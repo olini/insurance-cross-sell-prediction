{
 "cells": [
  {
   "cell_type": "markdown",
   "id": "elementary-surrey",
   "metadata": {},
   "source": [
    "# 0. Imports"
   ]
  },
  {
   "cell_type": "code",
   "execution_count": 1,
   "id": "thick-tokyo",
   "metadata": {
    "execution": {
     "iopub.execute_input": "2021-01-18T11:16:53.432884Z",
     "iopub.status.busy": "2021-01-18T11:16:53.432574Z",
     "iopub.status.idle": "2021-01-18T11:16:53.758167Z",
     "shell.execute_reply": "2021-01-18T11:16:53.757362Z",
     "shell.execute_reply.started": "2021-01-18T11:16:53.432848Z"
    }
   },
   "outputs": [],
   "source": [
    "import pandas as pd\n",
    "import psycopg2 as pg\n",
    "\n",
    "import credentials"
   ]
  },
  {
   "cell_type": "markdown",
   "id": "cutting-grenada",
   "metadata": {},
   "source": [
    "# 1. Load Data"
   ]
  },
  {
   "cell_type": "code",
   "execution_count": 4,
   "id": "clean-moore",
   "metadata": {
    "execution": {
     "iopub.execute_input": "2021-01-18T11:17:07.980906Z",
     "iopub.status.busy": "2021-01-18T11:17:07.980380Z",
     "iopub.status.idle": "2021-01-18T11:17:22.647461Z",
     "shell.execute_reply": "2021-01-18T11:17:22.646820Z",
     "shell.execute_reply.started": "2021-01-18T11:17:07.980848Z"
    }
   },
   "outputs": [],
   "source": [
    "sql_query = \"\"\"\n",
    "select \n",
    "  u.id,\n",
    "  u.gender,\n",
    "  u.age,\n",
    "  u.region_code,\n",
    "  u.policy_sales_channel,\n",
    "  i.previously_insured,\n",
    "  i.annual_premium,\n",
    "  i.vintage,\n",
    "  v.driving_license,\n",
    "  v.vehicle_age,\n",
    "  v.vehicle_damage,\n",
    "  i.response\n",
    "from pa004.users u \n",
    "inner join pa004.insurance i on u.id = i.id \n",
    "inner join pa004.vehicle v on u.id = v.id\n",
    "where u.id between 1 and 381109 -- limit id to guarantee the same data is fetched\n",
    "\"\"\"\n",
    "\n",
    "conn = pg.connect(\n",
    "    user=credentials.USER,\n",
    "    password=credentials.PWD,\n",
    "    host=credentials.HOST,\n",
    "    port=credentials.PORT,\n",
    "    database=credentials.DB\n",
    ")\n",
    "\n",
    "df_raw = pd.read_sql(sql_query, conn)"
   ]
  }
 ],
 "metadata": {
  "kernelspec": {
   "display_name": "Python 3",
   "language": "python",
   "name": "python3"
  },
  "language_info": {
   "codemirror_mode": {
    "name": "ipython",
    "version": 3
   },
   "file_extension": ".py",
   "mimetype": "text/x-python",
   "name": "python",
   "nbconvert_exporter": "python",
   "pygments_lexer": "ipython3",
   "version": "3.8.5"
  }
 },
 "nbformat": 4,
 "nbformat_minor": 5
}
