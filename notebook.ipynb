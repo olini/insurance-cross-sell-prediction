{
 "cells": [
  {
   "cell_type": "markdown",
   "id": "close-crown",
   "metadata": {},
   "source": [
    "# 0. Imports"
   ]
  },
  {
   "cell_type": "code",
   "execution_count": 1,
   "id": "renewable-chrome",
   "metadata": {
    "execution": {
     "iopub.execute_input": "2021-02-04T11:03:35.789976Z",
     "iopub.status.busy": "2021-02-04T11:03:35.788456Z",
     "iopub.status.idle": "2021-02-04T11:03:37.099138Z",
     "shell.execute_reply": "2021-02-04T11:03:37.098384Z",
     "shell.execute_reply.started": "2021-02-04T11:03:35.789786Z"
    }
   },
   "outputs": [],
   "source": [
    "import pandas as pd\n",
    "import psycopg2 as pg\n",
    "import numpy as np\n",
    "from matplotlib import pyplot as plt\n",
    "import seaborn as sns\n",
    "\n",
    "import credentials"
   ]
  },
  {
   "cell_type": "markdown",
   "id": "biological-overall",
   "metadata": {},
   "source": [
    "## 0.1. Helper Function"
   ]
  },
  {
   "cell_type": "code",
   "execution_count": 2,
   "id": "minor-reducing",
   "metadata": {
    "execution": {
     "iopub.execute_input": "2021-02-04T11:03:37.100792Z",
     "iopub.status.busy": "2021-02-04T11:03:37.100393Z",
     "iopub.status.idle": "2021-02-04T11:03:37.109094Z",
     "shell.execute_reply": "2021-02-04T11:03:37.108196Z",
     "shell.execute_reply.started": "2021-02-04T11:03:37.100752Z"
    }
   },
   "outputs": [],
   "source": [
    "def jupyter_settings():\n",
    "    %matplotlib inline\n",
    "    %pylab inline\n",
    "    pd.options.display.max_columns = None\n",
    "    pd.options.display.max_rows = None\n",
    "    \n",
    "    plt.rcParams['figure.figsize'] = [25,8]\n",
    "    plt.rcParams['font.size'] = 24\n",
    "    sns.set()"
   ]
  },
  {
   "cell_type": "code",
   "execution_count": 3,
   "id": "fallen-brisbane",
   "metadata": {
    "execution": {
     "iopub.execute_input": "2021-02-04T11:03:37.111246Z",
     "iopub.status.busy": "2021-02-04T11:03:37.110993Z",
     "iopub.status.idle": "2021-02-04T11:03:37.121368Z",
     "shell.execute_reply": "2021-02-04T11:03:37.120677Z",
     "shell.execute_reply.started": "2021-02-04T11:03:37.111217Z"
    }
   },
   "outputs": [
    {
     "name": "stdout",
     "output_type": "stream",
     "text": [
      "Populating the interactive namespace from numpy and matplotlib\n"
     ]
    }
   ],
   "source": [
    "jupyter_settings()"
   ]
  },
  {
   "cell_type": "markdown",
   "id": "fundamental-cleaning",
   "metadata": {},
   "source": [
    "# 1. Load Data"
   ]
  },
  {
   "cell_type": "code",
   "execution_count": 4,
   "id": "amber-resource",
   "metadata": {
    "execution": {
     "iopub.execute_input": "2021-02-04T11:03:37.123178Z",
     "iopub.status.busy": "2021-02-04T11:03:37.122873Z",
     "iopub.status.idle": "2021-02-04T11:03:48.054637Z",
     "shell.execute_reply": "2021-02-04T11:03:48.053767Z",
     "shell.execute_reply.started": "2021-02-04T11:03:37.123152Z"
    }
   },
   "outputs": [],
   "source": [
    "sql_query = \"\"\"\n",
    "select \n",
    "  u.id,\n",
    "  u.gender,\n",
    "  u.age,\n",
    "  u.region_code,\n",
    "  u.policy_sales_channel,\n",
    "  i.previously_insured,\n",
    "  i.annual_premium,\n",
    "  i.vintage,\n",
    "  v.driving_license,\n",
    "  v.vehicle_age,\n",
    "  v.vehicle_damage,\n",
    "  i.response\n",
    "from pa004.users u \n",
    "inner join pa004.insurance i on u.id = i.id \n",
    "inner join pa004.vehicle v on u.id = v.id\n",
    "where u.id between 1 and 381109 -- limit id to guarantee the same data is fetched\n",
    "\"\"\"\n",
    "\n",
    "conn = pg.connect(\n",
    "    user=credentials.USER,\n",
    "    password=credentials.PWD,\n",
    "    host=credentials.HOST,\n",
    "    port=credentials.PORT,\n",
    "    database=credentials.DB\n",
    ")\n",
    "\n",
    "df_raw = pd.read_sql(sql_query, conn)"
   ]
  },
  {
   "cell_type": "markdown",
   "id": "burning-store",
   "metadata": {},
   "source": [
    "# 2. Data Description"
   ]
  },
  {
   "cell_type": "code",
   "execution_count": 5,
   "id": "dress-integration",
   "metadata": {
    "execution": {
     "iopub.execute_input": "2021-02-04T11:03:48.055785Z",
     "iopub.status.busy": "2021-02-04T11:03:48.055584Z",
     "iopub.status.idle": "2021-02-04T11:03:48.103162Z",
     "shell.execute_reply": "2021-02-04T11:03:48.101195Z",
     "shell.execute_reply.started": "2021-02-04T11:03:48.055756Z"
    }
   },
   "outputs": [],
   "source": [
    "df_dd = df_raw.copy()"
   ]
  },
  {
   "cell_type": "markdown",
   "id": "infrared-tuition",
   "metadata": {},
   "source": [
    "## 2.1. Data Dimension"
   ]
  },
  {
   "cell_type": "code",
   "execution_count": 6,
   "id": "rotary-generic",
   "metadata": {
    "execution": {
     "iopub.execute_input": "2021-02-04T11:03:48.105386Z",
     "iopub.status.busy": "2021-02-04T11:03:48.104946Z",
     "iopub.status.idle": "2021-02-04T11:03:48.111417Z",
     "shell.execute_reply": "2021-02-04T11:03:48.109964Z",
     "shell.execute_reply.started": "2021-02-04T11:03:48.105334Z"
    }
   },
   "outputs": [
    {
     "name": "stdout",
     "output_type": "stream",
     "text": [
      "Number of rows: 381109\n",
      "Number of columns: 12\n"
     ]
    }
   ],
   "source": [
    "print(f'Number of rows: {df_dd.shape[0]}')\n",
    "print(f'Number of columns: {df_dd.shape[1]}')"
   ]
  },
  {
   "cell_type": "markdown",
   "id": "together-deviation",
   "metadata": {
    "execution": {
     "iopub.execute_input": "2021-01-18T11:42:56.970172Z",
     "iopub.status.busy": "2021-01-18T11:42:56.969739Z",
     "iopub.status.idle": "2021-01-18T11:42:56.980395Z",
     "shell.execute_reply": "2021-01-18T11:42:56.979036Z",
     "shell.execute_reply.started": "2021-01-18T11:42:56.970129Z"
    }
   },
   "source": [
    "## 2.2. Data Types"
   ]
  },
  {
   "cell_type": "code",
   "execution_count": 7,
   "id": "south-explanation",
   "metadata": {
    "execution": {
     "iopub.execute_input": "2021-02-04T11:03:48.114213Z",
     "iopub.status.busy": "2021-02-04T11:03:48.113764Z",
     "iopub.status.idle": "2021-02-04T11:03:48.172175Z",
     "shell.execute_reply": "2021-02-04T11:03:48.170745Z",
     "shell.execute_reply.started": "2021-02-04T11:03:48.114151Z"
    }
   },
   "outputs": [
    {
     "data": {
      "text/html": [
       "<div>\n",
       "<style scoped>\n",
       "    .dataframe tbody tr th:only-of-type {\n",
       "        vertical-align: middle;\n",
       "    }\n",
       "\n",
       "    .dataframe tbody tr th {\n",
       "        vertical-align: top;\n",
       "    }\n",
       "\n",
       "    .dataframe thead th {\n",
       "        text-align: right;\n",
       "    }\n",
       "</style>\n",
       "<table border=\"1\" class=\"dataframe\">\n",
       "  <thead>\n",
       "    <tr style=\"text-align: right;\">\n",
       "      <th></th>\n",
       "      <th>id</th>\n",
       "      <th>gender</th>\n",
       "      <th>age</th>\n",
       "      <th>region_code</th>\n",
       "      <th>policy_sales_channel</th>\n",
       "      <th>previously_insured</th>\n",
       "      <th>annual_premium</th>\n",
       "      <th>vintage</th>\n",
       "      <th>driving_license</th>\n",
       "      <th>vehicle_age</th>\n",
       "      <th>vehicle_damage</th>\n",
       "      <th>response</th>\n",
       "    </tr>\n",
       "  </thead>\n",
       "  <tbody>\n",
       "    <tr>\n",
       "      <th>17039</th>\n",
       "      <td>136275</td>\n",
       "      <td>Male</td>\n",
       "      <td>58</td>\n",
       "      <td>3.0</td>\n",
       "      <td>26.0</td>\n",
       "      <td>1</td>\n",
       "      <td>28706.0</td>\n",
       "      <td>129</td>\n",
       "      <td>1</td>\n",
       "      <td>1-2 Year</td>\n",
       "      <td>Yes</td>\n",
       "      <td>0</td>\n",
       "    </tr>\n",
       "  </tbody>\n",
       "</table>\n",
       "</div>"
      ],
      "text/plain": [
       "           id gender  age  region_code  policy_sales_channel  \\\n",
       "17039  136275   Male   58          3.0                  26.0   \n",
       "\n",
       "       previously_insured  annual_premium  vintage  driving_license  \\\n",
       "17039                   1         28706.0      129                1   \n",
       "\n",
       "      vehicle_age vehicle_damage  response  \n",
       "17039    1-2 Year            Yes         0  "
      ]
     },
     "execution_count": 7,
     "metadata": {},
     "output_type": "execute_result"
    }
   ],
   "source": [
    "df_dd.sample()"
   ]
  },
  {
   "cell_type": "code",
   "execution_count": 8,
   "id": "changed-notification",
   "metadata": {
    "execution": {
     "iopub.execute_input": "2021-02-04T11:03:48.176918Z",
     "iopub.status.busy": "2021-02-04T11:03:48.176515Z",
     "iopub.status.idle": "2021-02-04T11:03:48.192820Z",
     "shell.execute_reply": "2021-02-04T11:03:48.189158Z",
     "shell.execute_reply.started": "2021-02-04T11:03:48.176875Z"
    }
   },
   "outputs": [
    {
     "data": {
      "text/plain": [
       "id                        int64\n",
       "gender                   object\n",
       "age                       int64\n",
       "region_code             float64\n",
       "policy_sales_channel    float64\n",
       "previously_insured        int64\n",
       "annual_premium          float64\n",
       "vintage                   int64\n",
       "driving_license           int64\n",
       "vehicle_age              object\n",
       "vehicle_damage           object\n",
       "response                  int64\n",
       "dtype: object"
      ]
     },
     "execution_count": 8,
     "metadata": {},
     "output_type": "execute_result"
    }
   ],
   "source": [
    "df_dd.dtypes"
   ]
  },
  {
   "cell_type": "code",
   "execution_count": 9,
   "id": "accomplished-prairie",
   "metadata": {
    "execution": {
     "iopub.execute_input": "2021-02-04T11:03:48.195835Z",
     "iopub.status.busy": "2021-02-04T11:03:48.195413Z",
     "iopub.status.idle": "2021-02-04T11:03:48.202247Z",
     "shell.execute_reply": "2021-02-04T11:03:48.200999Z",
     "shell.execute_reply.started": "2021-02-04T11:03:48.195786Z"
    }
   },
   "outputs": [],
   "source": [
    "# change the feature vehicle_damage to int - Yes = 1 and No = 0\n",
    "#mapping_dict = {'Yes': 1, 'No': 0}\n",
    "#df_dd['vehicle_damage'] = df_dd['vehicle_damage'].map(mapping_dict)\n",
    "\n",
    "# change the feature gender to int - Female = 1 and Male = 0\n",
    "#mapping_dict = {'Female': 1, 'Male': 0}\n",
    "#df_dd['gender'] = df_dd['gender'].map(mapping_dict)\n",
    "\n",
    "# df_dd.dtypes"
   ]
  },
  {
   "cell_type": "markdown",
   "id": "stainless-portrait",
   "metadata": {},
   "source": [
    "## 2.3. Check NAs"
   ]
  },
  {
   "cell_type": "code",
   "execution_count": 10,
   "id": "moving-buying",
   "metadata": {
    "execution": {
     "iopub.execute_input": "2021-02-04T11:03:48.208109Z",
     "iopub.status.busy": "2021-02-04T11:03:48.207686Z",
     "iopub.status.idle": "2021-02-04T11:03:48.325620Z",
     "shell.execute_reply": "2021-02-04T11:03:48.324685Z",
     "shell.execute_reply.started": "2021-02-04T11:03:48.208061Z"
    }
   },
   "outputs": [
    {
     "data": {
      "text/plain": [
       "id                      0\n",
       "gender                  0\n",
       "age                     0\n",
       "region_code             0\n",
       "policy_sales_channel    0\n",
       "previously_insured      0\n",
       "annual_premium          0\n",
       "vintage                 0\n",
       "driving_license         0\n",
       "vehicle_age             0\n",
       "vehicle_damage          0\n",
       "response                0\n",
       "dtype: int64"
      ]
     },
     "execution_count": 10,
     "metadata": {},
     "output_type": "execute_result"
    }
   ],
   "source": [
    "df_dd.isna().sum()"
   ]
  },
  {
   "cell_type": "markdown",
   "id": "banner-thumbnail",
   "metadata": {},
   "source": [
    "No NAs found, no further action needed."
   ]
  },
  {
   "cell_type": "markdown",
   "id": "prescription-collectible",
   "metadata": {},
   "source": [
    "## 2.4. Descriptive Statistics"
   ]
  },
  {
   "cell_type": "code",
   "execution_count": 11,
   "id": "nominated-uruguay",
   "metadata": {
    "execution": {
     "iopub.execute_input": "2021-02-04T11:03:48.327105Z",
     "iopub.status.busy": "2021-02-04T11:03:48.326810Z",
     "iopub.status.idle": "2021-02-04T11:03:48.333170Z",
     "shell.execute_reply": "2021-02-04T11:03:48.330490Z",
     "shell.execute_reply.started": "2021-02-04T11:03:48.327071Z"
    }
   },
   "outputs": [],
   "source": [
    "# lets separate the features in numerical and categorical\n",
    "num_features = ['age', 'region_code', 'policy_sales_channel', 'annual_premium', 'vintage']\n",
    "cat_features = ['gender', 'previously_insured', 'driving_license', 'vehicle_age', 'vehicle_damage', 'response'] # include response to make some analysis"
   ]
  },
  {
   "cell_type": "markdown",
   "id": "differential-railway",
   "metadata": {},
   "source": [
    "### 2.4.1. Numerical Features"
   ]
  },
  {
   "cell_type": "code",
   "execution_count": 12,
   "id": "typical-mouth",
   "metadata": {
    "execution": {
     "iopub.execute_input": "2021-02-04T11:03:48.334779Z",
     "iopub.status.busy": "2021-02-04T11:03:48.334401Z",
     "iopub.status.idle": "2021-02-04T11:03:48.659389Z",
     "shell.execute_reply": "2021-02-04T11:03:48.658401Z",
     "shell.execute_reply.started": "2021-02-04T11:03:48.334739Z"
    }
   },
   "outputs": [],
   "source": [
    "# Central Tendency\n",
    "ct1 = df_dd[num_features].apply(np.mean)\n",
    "ct2 = df_dd[num_features].apply(np.median)\n",
    "\n",
    "# Dispersion\n",
    "d1 = df_dd[num_features].apply(np.std)\n",
    "d2 = df_dd[num_features].min()\n",
    "d3 = df_dd[num_features].max()\n",
    "d4 = df_dd[num_features].apply(lambda x: x.max() - x.min())\n",
    "d5 = df_dd[num_features].skew()\n",
    "d6 = df_dd[num_features].kurtosis()"
   ]
  },
  {
   "cell_type": "code",
   "execution_count": 13,
   "id": "agreed-rating",
   "metadata": {
    "execution": {
     "iopub.execute_input": "2021-02-04T11:03:48.660776Z",
     "iopub.status.busy": "2021-02-04T11:03:48.660530Z",
     "iopub.status.idle": "2021-02-04T11:03:48.675881Z",
     "shell.execute_reply": "2021-02-04T11:03:48.674400Z",
     "shell.execute_reply.started": "2021-02-04T11:03:48.660746Z"
    }
   },
   "outputs": [],
   "source": [
    "df_metrics = pd.DataFrame([ct1, ct2, d1, d2, d3, d4, d5, d6]).T.reset_index()\n",
    "df_metrics.columns = ['feature', 'mean', 'median', 'std', 'min', 'max', 'range', 'skew', 'kurtosis']"
   ]
  },
  {
   "cell_type": "code",
   "execution_count": 14,
   "id": "absolute-processing",
   "metadata": {
    "execution": {
     "iopub.execute_input": "2021-02-04T11:03:48.679925Z",
     "iopub.status.busy": "2021-02-04T11:03:48.679194Z",
     "iopub.status.idle": "2021-02-04T11:03:48.726488Z",
     "shell.execute_reply": "2021-02-04T11:03:48.725137Z",
     "shell.execute_reply.started": "2021-02-04T11:03:48.679863Z"
    }
   },
   "outputs": [
    {
     "data": {
      "text/html": [
       "<div>\n",
       "<style scoped>\n",
       "    .dataframe tbody tr th:only-of-type {\n",
       "        vertical-align: middle;\n",
       "    }\n",
       "\n",
       "    .dataframe tbody tr th {\n",
       "        vertical-align: top;\n",
       "    }\n",
       "\n",
       "    .dataframe thead th {\n",
       "        text-align: right;\n",
       "    }\n",
       "</style>\n",
       "<table border=\"1\" class=\"dataframe\">\n",
       "  <thead>\n",
       "    <tr style=\"text-align: right;\">\n",
       "      <th></th>\n",
       "      <th>feature</th>\n",
       "      <th>mean</th>\n",
       "      <th>median</th>\n",
       "      <th>std</th>\n",
       "      <th>min</th>\n",
       "      <th>max</th>\n",
       "      <th>range</th>\n",
       "      <th>skew</th>\n",
       "      <th>kurtosis</th>\n",
       "    </tr>\n",
       "  </thead>\n",
       "  <tbody>\n",
       "    <tr>\n",
       "      <th>0</th>\n",
       "      <td>age</td>\n",
       "      <td>38.822584</td>\n",
       "      <td>36.0</td>\n",
       "      <td>15.511591</td>\n",
       "      <td>20.0</td>\n",
       "      <td>85.0</td>\n",
       "      <td>65.0</td>\n",
       "      <td>0.672539</td>\n",
       "      <td>-0.565655</td>\n",
       "    </tr>\n",
       "    <tr>\n",
       "      <th>1</th>\n",
       "      <td>region_code</td>\n",
       "      <td>26.388807</td>\n",
       "      <td>28.0</td>\n",
       "      <td>13.229871</td>\n",
       "      <td>0.0</td>\n",
       "      <td>52.0</td>\n",
       "      <td>52.0</td>\n",
       "      <td>-0.115266</td>\n",
       "      <td>-0.867857</td>\n",
       "    </tr>\n",
       "    <tr>\n",
       "      <th>2</th>\n",
       "      <td>policy_sales_channel</td>\n",
       "      <td>112.034295</td>\n",
       "      <td>133.0</td>\n",
       "      <td>54.203924</td>\n",
       "      <td>1.0</td>\n",
       "      <td>163.0</td>\n",
       "      <td>162.0</td>\n",
       "      <td>-0.900008</td>\n",
       "      <td>-0.970810</td>\n",
       "    </tr>\n",
       "    <tr>\n",
       "      <th>3</th>\n",
       "      <td>annual_premium</td>\n",
       "      <td>30564.389581</td>\n",
       "      <td>31669.0</td>\n",
       "      <td>17213.132474</td>\n",
       "      <td>2630.0</td>\n",
       "      <td>540165.0</td>\n",
       "      <td>537535.0</td>\n",
       "      <td>1.766087</td>\n",
       "      <td>34.004569</td>\n",
       "    </tr>\n",
       "    <tr>\n",
       "      <th>4</th>\n",
       "      <td>vintage</td>\n",
       "      <td>154.347397</td>\n",
       "      <td>154.0</td>\n",
       "      <td>83.671194</td>\n",
       "      <td>10.0</td>\n",
       "      <td>299.0</td>\n",
       "      <td>289.0</td>\n",
       "      <td>0.003030</td>\n",
       "      <td>-1.200688</td>\n",
       "    </tr>\n",
       "  </tbody>\n",
       "</table>\n",
       "</div>"
      ],
      "text/plain": [
       "                feature          mean   median           std     min  \\\n",
       "0                   age     38.822584     36.0     15.511591    20.0   \n",
       "1           region_code     26.388807     28.0     13.229871     0.0   \n",
       "2  policy_sales_channel    112.034295    133.0     54.203924     1.0   \n",
       "3        annual_premium  30564.389581  31669.0  17213.132474  2630.0   \n",
       "4               vintage    154.347397    154.0     83.671194    10.0   \n",
       "\n",
       "        max     range      skew   kurtosis  \n",
       "0      85.0      65.0  0.672539  -0.565655  \n",
       "1      52.0      52.0 -0.115266  -0.867857  \n",
       "2     163.0     162.0 -0.900008  -0.970810  \n",
       "3  540165.0  537535.0  1.766087  34.004569  \n",
       "4     299.0     289.0  0.003030  -1.200688  "
      ]
     },
     "execution_count": 14,
     "metadata": {},
     "output_type": "execute_result"
    }
   ],
   "source": [
    "df_metrics"
   ]
  },
  {
   "cell_type": "code",
   "execution_count": 15,
   "id": "harmful-recruitment",
   "metadata": {
    "execution": {
     "iopub.execute_input": "2021-02-04T11:03:48.728627Z",
     "iopub.status.busy": "2021-02-04T11:03:48.728219Z",
     "iopub.status.idle": "2021-02-04T11:03:49.808300Z",
     "shell.execute_reply": "2021-02-04T11:03:49.807214Z",
     "shell.execute_reply.started": "2021-02-04T11:03:48.728581Z"
    }
   },
   "outputs": [
    {
     "data": {
      "image/png": "[encoded data removed]",
      "text/plain": [
       "<Figure size 1296x432 with 1 Axes>"
      ]
     },
     "metadata": {},
     "output_type": "display_data"
    }
   ],
   "source": [
    "sns.displot(df_dd['annual_premium'], height=6, aspect=3, bins=150);"
   ]
  },
  {
   "cell_type": "code",
   "execution_count": 16,
   "id": "foreign-cover",
   "metadata": {
    "execution": {
     "iopub.execute_input": "2021-02-04T11:03:49.810009Z",
     "iopub.status.busy": "2021-02-04T11:03:49.809663Z",
     "iopub.status.idle": "2021-02-04T11:03:50.029428Z",
     "shell.execute_reply": "2021-02-04T11:03:50.028519Z",
     "shell.execute_reply.started": "2021-02-04T11:03:49.809967Z"
    }
   },
   "outputs": [
    {
     "data": {
      "image/png": "[encoded data removed]",
      "text/plain": [
       "<Figure size 1800x576 with 1 Axes>"
      ]
     },
     "metadata": {},
     "output_type": "display_data"
    }
   ],
   "source": [
    "sns.boxplot(x = 'annual_premium', data=df_dd);"
   ]
  },
  {
   "cell_type": "markdown",
   "id": "compatible-kruger",
   "metadata": {},
   "source": [
    "### 2.4.2. Categorical Features"
   ]
  },
  {
   "cell_type": "code",
   "execution_count": 17,
   "id": "acquired-london",
   "metadata": {
    "execution": {
     "iopub.execute_input": "2021-02-04T11:03:50.031036Z",
     "iopub.status.busy": "2021-02-04T11:03:50.030681Z",
     "iopub.status.idle": "2021-02-04T11:03:50.310213Z",
     "shell.execute_reply": "2021-02-04T11:03:50.308778Z",
     "shell.execute_reply.started": "2021-02-04T11:03:50.030996Z"
    }
   },
   "outputs": [
    {
     "data": {
      "text/plain": [
       "gender                2\n",
       "previously_insured    2\n",
       "driving_license       2\n",
       "vehicle_age           3\n",
       "vehicle_damage        2\n",
       "response              2\n",
       "dtype: int64"
      ]
     },
     "execution_count": 17,
     "metadata": {},
     "output_type": "execute_result"
    }
   ],
   "source": [
    "df_dd[cat_features].apply(lambda x: x.unique().shape[0])"
   ]
  },
  {
   "cell_type": "code",
   "execution_count": 18,
   "id": "national-treaty",
   "metadata": {
    "execution": {
     "iopub.execute_input": "2021-02-04T11:03:50.312412Z",
     "iopub.status.busy": "2021-02-04T11:03:50.312065Z",
     "iopub.status.idle": "2021-02-04T11:04:01.778936Z",
     "shell.execute_reply": "2021-02-04T11:04:01.778116Z",
     "shell.execute_reply.started": "2021-02-04T11:03:50.312374Z"
    }
   },
   "outputs": [
    {
     "data": {
      "image/png": "[encoded data removed]",
      "text/plain": [
       "<Figure size 720x360 with 2 Axes>"
      ]
     },
     "metadata": {},
     "output_type": "display_data"
    },
    {
     "data": {
      "image/png": "[encoded data removed]",
      "text/plain": [
       "<Figure size 720x360 with 2 Axes>"
      ]
     },
     "metadata": {},
     "output_type": "display_data"
    },
    {
     "data": {
      "image/png": "[encoded data removed]",
      "text/plain": [
       "<Figure size 720x360 with 2 Axes>"
      ]
     },
     "metadata": {},
     "output_type": "display_data"
    },
    {
     "data": {
      "image/png": "[encoded data removed]",
      "text/plain": [
       "<Figure size 1080x360 with 3 Axes>"
      ]
     },
     "metadata": {},
     "output_type": "display_data"
    },
    {
     "data": {
      "image/png": "[encoded data removed]",
      "text/plain": [
       "<Figure size 720x360 with 2 Axes>"
      ]
     },
     "metadata": {},
     "output_type": "display_data"
    }
   ],
   "source": [
    "sns.catplot(x='response', col='gender', kind='count', data=df_dd[cat_features])\n",
    "sns.catplot(x='response', col='previously_insured', kind='count', data=df_dd[cat_features])\n",
    "sns.catplot(x='response', col='driving_license', kind='count', data=df_dd[cat_features])\n",
    "sns.catplot(x='response', col='vehicle_age', kind='count', data=df_dd[cat_features]);\n",
    "sns.catplot(x='response', col='vehicle_damage', kind='count', data=df_dd[cat_features]);"
   ]
  },
  {
   "cell_type": "markdown",
   "id": "brown-outline",
   "metadata": {},
   "source": [
    "### 2.4.3. Response Variable"
   ]
  },
  {
   "cell_type": "code",
   "execution_count": 19,
   "id": "yellow-stretch",
   "metadata": {
    "execution": {
     "iopub.execute_input": "2021-02-04T11:04:01.780364Z",
     "iopub.status.busy": "2021-02-04T11:04:01.780153Z",
     "iopub.status.idle": "2021-02-04T11:04:01.792836Z",
     "shell.execute_reply": "2021-02-04T11:04:01.791915Z",
     "shell.execute_reply.started": "2021-02-04T11:04:01.780341Z"
    }
   },
   "outputs": [
    {
     "data": {
      "text/plain": [
       "0    0.877437\n",
       "1    0.122563\n",
       "Name: response, dtype: float64"
      ]
     },
     "execution_count": 19,
     "metadata": {},
     "output_type": "execute_result"
    }
   ],
   "source": [
    "df_dd['response'].value_counts(normalize=True)"
   ]
  },
  {
   "cell_type": "markdown",
   "id": "comparable-roots",
   "metadata": {},
   "source": [
    "We have an unbalanced problem, because only 12% of our samples have the response label = 1"
   ]
  },
  {
   "cell_type": "markdown",
   "id": "current-advocate",
   "metadata": {},
   "source": [
    "# 3. Feature Engineering"
   ]
  },
  {
   "cell_type": "code",
   "execution_count": 22,
   "id": "streaming-october",
   "metadata": {
    "execution": {
     "iopub.execute_input": "2021-02-04T11:24:39.372023Z",
     "iopub.status.busy": "2021-02-04T11:24:39.371432Z",
     "iopub.status.idle": "2021-02-04T11:24:39.424668Z",
     "shell.execute_reply": "2021-02-04T11:24:39.422770Z",
     "shell.execute_reply.started": "2021-02-04T11:24:39.371957Z"
    }
   },
   "outputs": [],
   "source": [
    "df_fe = df_dd.copy()"
   ]
  },
  {
   "cell_type": "code",
   "execution_count": 23,
   "id": "greater-harrison",
   "metadata": {
    "execution": {
     "iopub.execute_input": "2021-02-04T11:24:44.500565Z",
     "iopub.status.busy": "2021-02-04T11:24:44.500018Z",
     "iopub.status.idle": "2021-02-04T11:24:44.521592Z",
     "shell.execute_reply": "2021-02-04T11:24:44.520413Z",
     "shell.execute_reply.started": "2021-02-04T11:24:44.500505Z"
    }
   },
   "outputs": [
    {
     "data": {
      "text/html": [
       "<div>\n",
       "<style scoped>\n",
       "    .dataframe tbody tr th:only-of-type {\n",
       "        vertical-align: middle;\n",
       "    }\n",
       "\n",
       "    .dataframe tbody tr th {\n",
       "        vertical-align: top;\n",
       "    }\n",
       "\n",
       "    .dataframe thead th {\n",
       "        text-align: right;\n",
       "    }\n",
       "</style>\n",
       "<table border=\"1\" class=\"dataframe\">\n",
       "  <thead>\n",
       "    <tr style=\"text-align: right;\">\n",
       "      <th></th>\n",
       "      <th>id</th>\n",
       "      <th>gender</th>\n",
       "      <th>age</th>\n",
       "      <th>region_code</th>\n",
       "      <th>policy_sales_channel</th>\n",
       "      <th>previously_insured</th>\n",
       "      <th>annual_premium</th>\n",
       "      <th>vintage</th>\n",
       "      <th>driving_license</th>\n",
       "      <th>vehicle_age</th>\n",
       "      <th>vehicle_damage</th>\n",
       "      <th>response</th>\n",
       "    </tr>\n",
       "  </thead>\n",
       "  <tbody>\n",
       "    <tr>\n",
       "      <th>0</th>\n",
       "      <td>7</td>\n",
       "      <td>Male</td>\n",
       "      <td>23</td>\n",
       "      <td>11.0</td>\n",
       "      <td>152.0</td>\n",
       "      <td>0</td>\n",
       "      <td>23367.0</td>\n",
       "      <td>249</td>\n",
       "      <td>1</td>\n",
       "      <td>&lt; 1 Year</td>\n",
       "      <td>Yes</td>\n",
       "      <td>0</td>\n",
       "    </tr>\n",
       "    <tr>\n",
       "      <th>1</th>\n",
       "      <td>13</td>\n",
       "      <td>Female</td>\n",
       "      <td>41</td>\n",
       "      <td>15.0</td>\n",
       "      <td>14.0</td>\n",
       "      <td>1</td>\n",
       "      <td>31409.0</td>\n",
       "      <td>221</td>\n",
       "      <td>1</td>\n",
       "      <td>1-2 Year</td>\n",
       "      <td>No</td>\n",
       "      <td>0</td>\n",
       "    </tr>\n",
       "    <tr>\n",
       "      <th>2</th>\n",
       "      <td>18</td>\n",
       "      <td>Female</td>\n",
       "      <td>25</td>\n",
       "      <td>35.0</td>\n",
       "      <td>152.0</td>\n",
       "      <td>1</td>\n",
       "      <td>46622.0</td>\n",
       "      <td>299</td>\n",
       "      <td>1</td>\n",
       "      <td>&lt; 1 Year</td>\n",
       "      <td>No</td>\n",
       "      <td>0</td>\n",
       "    </tr>\n",
       "    <tr>\n",
       "      <th>3</th>\n",
       "      <td>31</td>\n",
       "      <td>Female</td>\n",
       "      <td>26</td>\n",
       "      <td>8.0</td>\n",
       "      <td>160.0</td>\n",
       "      <td>0</td>\n",
       "      <td>2630.0</td>\n",
       "      <td>136</td>\n",
       "      <td>1</td>\n",
       "      <td>&lt; 1 Year</td>\n",
       "      <td>No</td>\n",
       "      <td>0</td>\n",
       "    </tr>\n",
       "    <tr>\n",
       "      <th>4</th>\n",
       "      <td>39</td>\n",
       "      <td>Male</td>\n",
       "      <td>45</td>\n",
       "      <td>8.0</td>\n",
       "      <td>124.0</td>\n",
       "      <td>0</td>\n",
       "      <td>42297.0</td>\n",
       "      <td>264</td>\n",
       "      <td>1</td>\n",
       "      <td>1-2 Year</td>\n",
       "      <td>Yes</td>\n",
       "      <td>0</td>\n",
       "    </tr>\n",
       "  </tbody>\n",
       "</table>\n",
       "</div>"
      ],
      "text/plain": [
       "   id  gender  age  region_code  policy_sales_channel  previously_insured  \\\n",
       "0   7    Male   23         11.0                 152.0                   0   \n",
       "1  13  Female   41         15.0                  14.0                   1   \n",
       "2  18  Female   25         35.0                 152.0                   1   \n",
       "3  31  Female   26          8.0                 160.0                   0   \n",
       "4  39    Male   45          8.0                 124.0                   0   \n",
       "\n",
       "   annual_premium  vintage  driving_license vehicle_age vehicle_damage  \\\n",
       "0         23367.0      249                1    < 1 Year            Yes   \n",
       "1         31409.0      221                1    1-2 Year             No   \n",
       "2         46622.0      299                1    < 1 Year             No   \n",
       "3          2630.0      136                1    < 1 Year             No   \n",
       "4         42297.0      264                1    1-2 Year            Yes   \n",
       "\n",
       "   response  \n",
       "0         0  \n",
       "1         0  \n",
       "2         0  \n",
       "3         0  \n",
       "4         0  "
      ]
     },
     "execution_count": 23,
     "metadata": {},
     "output_type": "execute_result"
    }
   ],
   "source": [
    "df_fe.head()"
   ]
  },
  {
   "cell_type": "markdown",
   "id": "above-regulation",
   "metadata": {},
   "source": [
    "No new feature for now"
   ]
  },
  {
   "cell_type": "markdown",
   "id": "enormous-consequence",
   "metadata": {},
   "source": [
    "# 4. Exploratory Data Analysis"
   ]
  },
  {
   "cell_type": "code",
   "execution_count": 25,
   "id": "vanilla-journalism",
   "metadata": {
    "execution": {
     "iopub.execute_input": "2021-02-04T11:29:37.256273Z",
     "iopub.status.busy": "2021-02-04T11:29:37.254615Z",
     "iopub.status.idle": "2021-02-04T11:29:37.357437Z",
     "shell.execute_reply": "2021-02-04T11:29:37.353437Z",
     "shell.execute_reply.started": "2021-02-04T11:29:37.256104Z"
    }
   },
   "outputs": [],
   "source": [
    "df_eda = df_fe.copy()"
   ]
  },
  {
   "cell_type": "markdown",
   "id": "attached-consciousness",
   "metadata": {},
   "source": [
    "## 4.1. Univariate Analysis"
   ]
  },
  {
   "cell_type": "markdown",
   "id": "expired-ghost",
   "metadata": {},
   "source": [
    "### 4.1.1. Numerical Features"
   ]
  },
  {
   "cell_type": "code",
   "execution_count": 29,
   "id": "awful-hearts",
   "metadata": {
    "execution": {
     "iopub.execute_input": "2021-02-04T11:32:29.071522Z",
     "iopub.status.busy": "2021-02-04T11:32:29.070422Z",
     "iopub.status.idle": "2021-02-04T11:32:30.019972Z",
     "shell.execute_reply": "2021-02-04T11:32:30.019239Z",
     "shell.execute_reply.started": "2021-02-04T11:32:29.071406Z"
    }
   },
   "outputs": [
    {
     "data": {
      "image/png": "[encoded data removed]",
      "text/plain": [
       "<Figure size 1800x1080 with 4 Axes>"
      ]
     },
     "metadata": {},
     "output_type": "display_data"
    }
   ],
   "source": [
    "df_eda[['id', 'age', 'annual_premium', 'vintage']].hist(bins=25, figsize=(25,15));"
   ]
  },
  {
   "cell_type": "markdown",
   "id": "fifty-holocaust",
   "metadata": {},
   "source": [
    "By looking at the numerical features alone, we can observe:\n",
    "- The most commom age between our customers is around 20-25 yo, although, we have a good concentration of customers between 30 and 50 yo.\n",
    "- The majority of our customers have annual premiums lower than aprox. 50k.\n",
    "- Our base of clients is well distributed when looking at vintage."
   ]
  },
  {
   "cell_type": "markdown",
   "id": "initial-layout",
   "metadata": {},
   "source": [
    "### 4.1.2. Categorical Features"
   ]
  },
  {
   "cell_type": "code",
   "execution_count": 30,
   "id": "statutory-selection",
   "metadata": {
    "execution": {
     "iopub.execute_input": "2021-02-04T11:37:49.321146Z",
     "iopub.status.busy": "2021-02-04T11:37:49.320136Z",
     "iopub.status.idle": "2021-02-04T11:37:49.384125Z",
     "shell.execute_reply": "2021-02-04T11:37:49.382566Z",
     "shell.execute_reply.started": "2021-02-04T11:37:49.321032Z"
    }
   },
   "outputs": [
    {
     "data": {
      "text/html": [
       "<div>\n",
       "<style scoped>\n",
       "    .dataframe tbody tr th:only-of-type {\n",
       "        vertical-align: middle;\n",
       "    }\n",
       "\n",
       "    .dataframe tbody tr th {\n",
       "        vertical-align: top;\n",
       "    }\n",
       "\n",
       "    .dataframe thead th {\n",
       "        text-align: right;\n",
       "    }\n",
       "</style>\n",
       "<table border=\"1\" class=\"dataframe\">\n",
       "  <thead>\n",
       "    <tr style=\"text-align: right;\">\n",
       "      <th></th>\n",
       "      <th>id</th>\n",
       "      <th>gender</th>\n",
       "      <th>age</th>\n",
       "      <th>region_code</th>\n",
       "      <th>policy_sales_channel</th>\n",
       "      <th>previously_insured</th>\n",
       "      <th>annual_premium</th>\n",
       "      <th>vintage</th>\n",
       "      <th>driving_license</th>\n",
       "      <th>vehicle_age</th>\n",
       "      <th>vehicle_damage</th>\n",
       "      <th>response</th>\n",
       "    </tr>\n",
       "  </thead>\n",
       "  <tbody>\n",
       "    <tr>\n",
       "      <th>0</th>\n",
       "      <td>7</td>\n",
       "      <td>Male</td>\n",
       "      <td>23</td>\n",
       "      <td>11.0</td>\n",
       "      <td>152.0</td>\n",
       "      <td>0</td>\n",
       "      <td>23367.0</td>\n",
       "      <td>249</td>\n",
       "      <td>1</td>\n",
       "      <td>&lt; 1 Year</td>\n",
       "      <td>Yes</td>\n",
       "      <td>0</td>\n",
       "    </tr>\n",
       "    <tr>\n",
       "      <th>1</th>\n",
       "      <td>13</td>\n",
       "      <td>Female</td>\n",
       "      <td>41</td>\n",
       "      <td>15.0</td>\n",
       "      <td>14.0</td>\n",
       "      <td>1</td>\n",
       "      <td>31409.0</td>\n",
       "      <td>221</td>\n",
       "      <td>1</td>\n",
       "      <td>1-2 Year</td>\n",
       "      <td>No</td>\n",
       "      <td>0</td>\n",
       "    </tr>\n",
       "    <tr>\n",
       "      <th>2</th>\n",
       "      <td>18</td>\n",
       "      <td>Female</td>\n",
       "      <td>25</td>\n",
       "      <td>35.0</td>\n",
       "      <td>152.0</td>\n",
       "      <td>1</td>\n",
       "      <td>46622.0</td>\n",
       "      <td>299</td>\n",
       "      <td>1</td>\n",
       "      <td>&lt; 1 Year</td>\n",
       "      <td>No</td>\n",
       "      <td>0</td>\n",
       "    </tr>\n",
       "    <tr>\n",
       "      <th>3</th>\n",
       "      <td>31</td>\n",
       "      <td>Female</td>\n",
       "      <td>26</td>\n",
       "      <td>8.0</td>\n",
       "      <td>160.0</td>\n",
       "      <td>0</td>\n",
       "      <td>2630.0</td>\n",
       "      <td>136</td>\n",
       "      <td>1</td>\n",
       "      <td>&lt; 1 Year</td>\n",
       "      <td>No</td>\n",
       "      <td>0</td>\n",
       "    </tr>\n",
       "    <tr>\n",
       "      <th>4</th>\n",
       "      <td>39</td>\n",
       "      <td>Male</td>\n",
       "      <td>45</td>\n",
       "      <td>8.0</td>\n",
       "      <td>124.0</td>\n",
       "      <td>0</td>\n",
       "      <td>42297.0</td>\n",
       "      <td>264</td>\n",
       "      <td>1</td>\n",
       "      <td>1-2 Year</td>\n",
       "      <td>Yes</td>\n",
       "      <td>0</td>\n",
       "    </tr>\n",
       "  </tbody>\n",
       "</table>\n",
       "</div>"
      ],
      "text/plain": [
       "   id  gender  age  region_code  policy_sales_channel  previously_insured  \\\n",
       "0   7    Male   23         11.0                 152.0                   0   \n",
       "1  13  Female   41         15.0                  14.0                   1   \n",
       "2  18  Female   25         35.0                 152.0                   1   \n",
       "3  31  Female   26          8.0                 160.0                   0   \n",
       "4  39    Male   45          8.0                 124.0                   0   \n",
       "\n",
       "   annual_premium  vintage  driving_license vehicle_age vehicle_damage  \\\n",
       "0         23367.0      249                1    < 1 Year            Yes   \n",
       "1         31409.0      221                1    1-2 Year             No   \n",
       "2         46622.0      299                1    < 1 Year             No   \n",
       "3          2630.0      136                1    < 1 Year             No   \n",
       "4         42297.0      264                1    1-2 Year            Yes   \n",
       "\n",
       "   response  \n",
       "0         0  \n",
       "1         0  \n",
       "2         0  \n",
       "3         0  \n",
       "4         0  "
      ]
     },
     "execution_count": 30,
     "metadata": {},
     "output_type": "execute_result"
    }
   ],
   "source": [
    "df_eda.head()"
   ]
  },
  {
   "cell_type": "code",
   "execution_count": 40,
   "id": "arctic-province",
   "metadata": {
    "execution": {
     "iopub.execute_input": "2021-02-04T11:50:16.353028Z",
     "iopub.status.busy": "2021-02-04T11:50:16.352692Z",
     "iopub.status.idle": "2021-02-04T11:50:16.639747Z",
     "shell.execute_reply": "2021-02-04T11:50:16.638352Z",
     "shell.execute_reply.started": "2021-02-04T11:50:16.352992Z"
    }
   },
   "outputs": [
    {
     "data": {
      "text/html": [
       "<div>\n",
       "<style scoped>\n",
       "    .dataframe tbody tr th:only-of-type {\n",
       "        vertical-align: middle;\n",
       "    }\n",
       "\n",
       "    .dataframe tbody tr th {\n",
       "        vertical-align: top;\n",
       "    }\n",
       "\n",
       "    .dataframe thead th {\n",
       "        text-align: right;\n",
       "    }\n",
       "</style>\n",
       "<table border=\"1\" class=\"dataframe\">\n",
       "  <thead>\n",
       "    <tr style=\"text-align: right;\">\n",
       "      <th></th>\n",
       "      <th>gender</th>\n",
       "      <th>region_code</th>\n",
       "      <th>policy_sales_channel</th>\n",
       "      <th>previously_insured</th>\n",
       "      <th>driving_license</th>\n",
       "      <th>vehicle_age</th>\n",
       "      <th>vehicle_damage</th>\n",
       "      <th>0</th>\n",
       "    </tr>\n",
       "  </thead>\n",
       "  <tbody>\n",
       "    <tr>\n",
       "      <th>0</th>\n",
       "      <td>Male</td>\n",
       "      <td>28.0</td>\n",
       "      <td>26.0</td>\n",
       "      <td>0</td>\n",
       "      <td>1</td>\n",
       "      <td>1-2 Year</td>\n",
       "      <td>Yes</td>\n",
       "      <td>12028</td>\n",
       "    </tr>\n",
       "    <tr>\n",
       "      <th>1</th>\n",
       "      <td>Male</td>\n",
       "      <td>28.0</td>\n",
       "      <td>124.0</td>\n",
       "      <td>0</td>\n",
       "      <td>1</td>\n",
       "      <td>1-2 Year</td>\n",
       "      <td>Yes</td>\n",
       "      <td>9684</td>\n",
       "    </tr>\n",
       "    <tr>\n",
       "      <th>2</th>\n",
       "      <td>Female</td>\n",
       "      <td>28.0</td>\n",
       "      <td>26.0</td>\n",
       "      <td>0</td>\n",
       "      <td>1</td>\n",
       "      <td>1-2 Year</td>\n",
       "      <td>Yes</td>\n",
       "      <td>8884</td>\n",
       "    </tr>\n",
       "    <tr>\n",
       "      <th>3</th>\n",
       "      <td>Female</td>\n",
       "      <td>28.0</td>\n",
       "      <td>124.0</td>\n",
       "      <td>0</td>\n",
       "      <td>1</td>\n",
       "      <td>1-2 Year</td>\n",
       "      <td>Yes</td>\n",
       "      <td>6031</td>\n",
       "    </tr>\n",
       "    <tr>\n",
       "      <th>4</th>\n",
       "      <td>Female</td>\n",
       "      <td>28.0</td>\n",
       "      <td>152.0</td>\n",
       "      <td>1</td>\n",
       "      <td>1</td>\n",
       "      <td>&lt; 1 Year</td>\n",
       "      <td>No</td>\n",
       "      <td>5080</td>\n",
       "    </tr>\n",
       "  </tbody>\n",
       "</table>\n",
       "</div>"
      ],
      "text/plain": [
       "   gender  region_code  policy_sales_channel  previously_insured  \\\n",
       "0    Male         28.0                  26.0                   0   \n",
       "1    Male         28.0                 124.0                   0   \n",
       "2  Female         28.0                  26.0                   0   \n",
       "3  Female         28.0                 124.0                   0   \n",
       "4  Female         28.0                 152.0                   1   \n",
       "\n",
       "   driving_license vehicle_age vehicle_damage      0  \n",
       "0                1    1-2 Year            Yes  12028  \n",
       "1                1    1-2 Year            Yes   9684  \n",
       "2                1    1-2 Year            Yes   8884  \n",
       "3                1    1-2 Year            Yes   6031  \n",
       "4                1    < 1 Year             No   5080  "
      ]
     },
     "execution_count": 40,
     "metadata": {},
     "output_type": "execute_result"
    }
   ],
   "source": [
    "df_cat = df_eda[['gender', 'region_code', 'policy_sales_channel', 'previously_insured', 'driving_license', 'vehicle_age', 'vehicle_damage']].value_counts().reset_index()\n",
    "# ['gender', 'region_code', 'policy_sales_channel', 'previously_insured', 'driving_license', 'vehicle_age', 'vehicle_damage']\n",
    "#df_eda['gender'].value_counts().plot(kind='bar')\n",
    "#df_cat['gender_perc'] = df_eda['gender'].value_counts(normalize=True)\n",
    "df_cat.head()\n",
    "#sns.barplot(x='gender', data=df_eda);"
   ]
  },
  {
   "cell_type": "markdown",
   "id": "mysterious-queens",
   "metadata": {},
   "source": [
    "## 4.x. Hypotheses"
   ]
  },
  {
   "cell_type": "markdown",
   "id": "cordless-yahoo",
   "metadata": {},
   "source": [
    "- 1. Older customers should be more interested in the vehicle insurance\n",
    "- 2. Customers without a driving license shouldn't be interested in the vehicle insurance\n",
    "- 3. Customers that got their vehicle damaged in the past should be more interested in the vehicle insurance\n",
    "- 4. Customers that already have vehicle insurance shouldn't be interested in the vehicle insurance\n",
    "- 5. Female customers should be more interested in the vehicle insurance"
   ]
  },
  {
   "cell_type": "code",
   "execution_count": null,
   "id": "complicated-plumbing",
   "metadata": {},
   "outputs": [],
   "source": []
  }
 ],
 "metadata": {
  "kernelspec": {
   "display_name": "Python 3",
   "language": "python",
   "name": "python3"
  },
  "language_info": {
   "codemirror_mode": {
    "name": "ipython",
    "version": 3
   },
   "file_extension": ".py",
   "mimetype": "text/x-python",
   "name": "python",
   "nbconvert_exporter": "python",
   "pygments_lexer": "ipython3",
   "version": "3.8.5"
  }
 },
 "nbformat": 4,
 "nbformat_minor": 5
}
